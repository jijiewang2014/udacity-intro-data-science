{
 "cells": [
  {
   "cell_type": "markdown",
   "metadata": {
    "collapsed": true
   },
   "source": [
    "The `statsmodels` implementation does not improve the model but is more convenient to use. There is no improvement, because the model is still a linear regression. The way to evaluate the parameters and find the optimum is different. The model could be improved with another technics, the polynomial regression."
   ]
  },
  {
   "cell_type": "code",
   "execution_count": 1,
   "metadata": {
    "collapsed": true
   },
   "outputs": [],
   "source": [
    "import numpy as np\n",
    "import statsmodels.api as sm\n",
    "from pandas import *\n",
    "from ggplot import *"
   ]
  },
  {
   "cell_type": "markdown",
   "metadata": {},
   "source": [
    "We will use the same $R^2$ funtion to evaluate the model:"
   ]
  },
  {
   "cell_type": "code",
   "execution_count": 2,
   "metadata": {
    "collapsed": true
   },
   "outputs": [],
   "source": [
    "def compute_r_squared(data, predictions):\n",
    "    r_squared = 1 - np.square(data - predictions).sum() / np.square(data - data.mean()).sum()\n",
    "    return r_squared"
   ]
  },
  {
   "cell_type": "markdown",
   "metadata": {},
   "source": [
    "It is now time to import the data:"
   ]
  },
  {
   "cell_type": "code",
   "execution_count": 3,
   "metadata": {
    "collapsed": false
   },
   "outputs": [],
   "source": [
    "turnstile_weather = pandas.read_csv('data/turnstile_data_master_with_weather.csv')\n",
    "features = turnstile_weather[['rain', 'precipi', 'Hour', 'mintempi', 'fog']]"
   ]
  },
  {
   "cell_type": "markdown",
   "metadata": {},
   "source": [
    "The square of the features will appended to the features, and the OLS optimisation run on this new input:"
   ]
  },
  {
   "cell_type": "code",
   "execution_count": 4,
   "metadata": {
    "collapsed": false
   },
   "outputs": [],
   "source": [
    "features_square = np.square(features)\n",
    "features_square.rename(columns=lambda x: 's_' + x, inplace=True)\n",
    "features = features.join(features_square)"
   ]
  },
  {
   "cell_type": "markdown",
   "metadata": {},
   "source": [
    "The next steps are exactly the same than the previous exercise, dummies columns are added and the new features array is normalized:"
   ]
  },
  {
   "cell_type": "code",
   "execution_count": 5,
   "metadata": {
    "collapsed": false
   },
   "outputs": [],
   "source": [
    "dummy_units = pandas.get_dummies(turnstile_weather['UNIT'], prefix='unit')\n",
    "features = features.join(dummy_units)\n",
    "values = turnstile_weather['ENTRIESn_hourly']"
   ]
  },
  {
   "cell_type": "code",
   "execution_count": 6,
   "metadata": {
    "collapsed": false
   },
   "outputs": [],
   "source": [
    "def normalize_features(df):\n",
    "    mu = df.mean()\n",
    "    sigma = df.std()    \n",
    "    if (sigma == 0).any():\n",
    "        raise Exception(\"One or more features had the same value for all samples, and thus could \" + \\\n",
    "                         \"not be normalized. Please do not include features with only a single value \" + \\\n",
    "                         \"in your model.\")\n",
    "    df_normalized = (df - df.mean()) / df.std()\n",
    "    return df_normalized, mu, sigma\n",
    "features, mu, sigma = normalize_features(features)"
   ]
  },
  {
   "cell_type": "code",
   "execution_count": 7,
   "metadata": {
    "collapsed": false
   },
   "outputs": [],
   "source": [
    "m = len(values)\n",
    "features['ones'] = np.ones(m) # Add a column of 1s (y intercept) \n",
    "features_array = np.array(features)\n",
    "values_array = np.array(values)  "
   ]
  },
  {
   "cell_type": "code",
   "execution_count": 8,
   "metadata": {
    "collapsed": false
   },
   "outputs": [],
   "source": [
    "model = sm.OLS(values_array, features_array)\n",
    "theta_statsmodels = model.fit().params\n",
    "prediction = np.dot(features_array, theta_statsmodels)    "
   ]
  },
  {
   "cell_type": "code",
   "execution_count": 9,
   "metadata": {
    "collapsed": false
   },
   "outputs": [
    {
     "name": "stdout",
     "output_type": "stream",
     "text": [
      "0.459142837857\n"
     ]
    }
   ],
   "source": [
    "print compute_r_squared(values_array, prediction)"
   ]
  },
  {
   "cell_type": "markdown",
   "metadata": {},
   "source": [
    "With the polynomial regression, the $R^2$ is now better, but the improvement is very small."
   ]
  }
 ],
 "metadata": {
  "kernelspec": {
   "display_name": "Python 2",
   "language": "python",
   "name": "python2"
  },
  "language_info": {
   "codemirror_mode": {
    "name": "ipython",
    "version": 2
   },
   "file_extension": ".py",
   "mimetype": "text/x-python",
   "name": "python",
   "nbconvert_exporter": "python",
   "pygments_lexer": "ipython2",
   "version": "2.7.10"
  }
 },
 "nbformat": 4,
 "nbformat_minor": 0
}
