{
 "cells": [
  {
   "cell_type": "code",
   "execution_count": 66,
   "metadata": {
    "collapsed": true
   },
   "outputs": [],
   "source": [
    "%matplotlib inline"
   ]
  },
  {
   "cell_type": "code",
   "execution_count": 67,
   "metadata": {
    "collapsed": true
   },
   "outputs": [],
   "source": [
    "import pandas as pd\n",
    "from ggplot import *\n",
    "from datetime import *"
   ]
  },
  {
   "cell_type": "code",
   "execution_count": 68,
   "metadata": {
    "collapsed": false
   },
   "outputs": [],
   "source": [
    "turnstile_weather = pd.read_csv('data/turnstile_data_master_with_weather.csv')\n",
    "turnstile_weather.is_copy = False"
   ]
  },
  {
   "cell_type": "code",
   "execution_count": 69,
   "metadata": {
    "collapsed": true
   },
   "outputs": [],
   "source": [
    "turnstile_weather.rename(columns = lambda x: x.replace(' ', '_').lower(), inplace=True) "
   ]
  },
  {
   "cell_type": "code",
   "execution_count": 70,
   "metadata": {
    "collapsed": false
   },
   "outputs": [],
   "source": [
    "turnstile_weather['week_day'] = turnstile_weather['daten'].map(\n",
    "            lambda x: datetime.strptime(x, '%Y-%m-%d').weekday())"
   ]
  },
  {
   "cell_type": "code",
   "execution_count": 71,
   "metadata": {
    "collapsed": true
   },
   "outputs": [],
   "source": [
    "def clean_hour(hour):\n",
    "    if hour < 4:\n",
    "        hour_bucket = 2\n",
    "    if hour >= 4 and hour < 8:\n",
    "        hour_bucket = 6\n",
    "    if hour >= 8 and hour < 12:\n",
    "        hour_bucket = 10\n",
    "    if hour >= 12 and hour < 16:\n",
    "        hour_bucket = 14\n",
    "    if hour >= 16 and hour < 20:\n",
    "        hour_bucket = 18\n",
    "    if hour >= 20:\n",
    "        hour_bucket = 22\n",
    "    return hour_bucket"
   ]
  },
  {
   "cell_type": "code",
   "execution_count": 72,
   "metadata": {
    "collapsed": false
   },
   "outputs": [],
   "source": [
    "turnstile_weather['hour_bucket'] = turnstile_weather['hour'].map(clean_hour)"
   ]
  },
  {
   "cell_type": "code",
   "execution_count": 73,
   "metadata": {
    "collapsed": false
   },
   "outputs": [
    {
     "name": "stdout",
     "output_type": "stream",
     "text": [
      "Index([u'unnamed:_0', u'unit', u'daten', u'timen', u'hour', u'descn',\n",
      "       u'entriesn_hourly', u'exitsn_hourly', u'maxpressurei', u'maxdewpti',\n",
      "       u'mindewpti', u'minpressurei', u'meandewpti', u'meanpressurei', u'fog',\n",
      "       u'rain', u'meanwindspdi', u'mintempi', u'meantempi', u'maxtempi',\n",
      "       u'precipi', u'thunder', u'week_day', u'hour_bucket'],\n",
      "      dtype='object')\n"
     ]
    }
   ],
   "source": [
    "print turnstile_weather.columns"
   ]
  },
  {
   "cell_type": "code",
   "execution_count": 74,
   "metadata": {
    "collapsed": false
   },
   "outputs": [
    {
     "name": "stdout",
     "output_type": "stream",
     "text": [
      "             daten     timen  hour  hour_bucket  entriesn_hourly\n",
      "0       2011-05-01  01:00:00     1            2                0\n",
      "1       2011-05-01  05:00:00     5            6              217\n",
      "2       2011-05-01  09:00:00     9           10              890\n",
      "3       2011-05-01  13:00:00    13           14             2451\n",
      "4       2011-05-01  17:00:00    17           18             4400\n",
      "5       2011-05-01  21:00:00    21           22             3372\n",
      "6       2011-05-01  01:00:00     1            2                0\n",
      "7       2011-05-01  05:00:00     5            6               42\n",
      "8       2011-05-01  09:00:00     9           10               50\n",
      "9       2011-05-01  13:00:00    13           14              316\n",
      "10      2011-05-01  17:00:00    17           18              633\n",
      "11      2011-05-01  21:00:00    21           22              639\n",
      "12      2011-05-01  00:00:00     0            2                0\n",
      "13      2011-05-01  04:00:00     4            6                0\n",
      "14      2011-05-01  12:00:00    12           14                0\n",
      "15      2011-05-01  16:00:00    16           18                0\n",
      "16      2011-05-01  20:00:00    20           22                0\n",
      "17      2011-05-01  00:00:00     0            2                0\n",
      "18      2011-05-01  04:00:00     4            6                0\n",
      "19      2011-05-01  08:00:00     8           10                0\n",
      "20      2011-05-01  12:00:00    12           14                0\n",
      "21      2011-05-01  16:00:00    16           18                0\n",
      "22      2011-05-01  20:00:00    20           22                0\n",
      "23      2011-05-01  00:00:00     0            2                0\n",
      "24      2011-05-01  04:00:00     4            6                0\n",
      "25      2011-05-01  12:00:00    12           14                0\n",
      "26      2011-05-01  16:00:00    16           18                1\n",
      "27      2011-05-01  20:00:00    20           22                0\n",
      "28      2011-05-01  00:00:00     0            2                0\n",
      "29      2011-05-01  04:00:00     4            6                0\n",
      "...            ...       ...   ...          ...              ...\n",
      "131921  2011-05-30  17:55:25    17           18                6\n",
      "131922  2011-05-30  18:09:09    18           18              192\n",
      "131923  2011-05-30  18:15:11    18           18              350\n",
      "131924  2011-05-30  18:27:32    18           18               25\n",
      "131925  2011-05-30  18:46:54    18           18                0\n",
      "131926  2011-05-30  19:09:29    19           18               30\n",
      "131927  2011-05-30  19:11:30    19           18              208\n",
      "131928  2011-05-30  19:16:44    19           18              107\n",
      "131929  2011-05-30  19:23:45    19           18              139\n",
      "131930  2011-05-30  19:36:27    19           18              331\n",
      "131931  2011-05-30  19:38:47    19           18              275\n",
      "131932  2011-05-30  19:52:07    19           18              133\n",
      "131933  2011-05-30  20:10:01    20           22                7\n",
      "131934  2011-05-30  20:17:36    20           22              128\n",
      "131935  2011-05-30  20:23:06    20           22              142\n",
      "131936  2011-05-30  20:51:44    20           22                0\n",
      "131937  2011-05-30  20:58:04    20           22              248\n",
      "131938  2011-05-30  20:58:21    20           22               62\n",
      "131939  2011-05-30  21:14:49    21           22              116\n",
      "131940  2011-05-30  21:21:28    21           22               68\n",
      "131941  2011-05-30  22:07:25    22           22                7\n",
      "131942  2011-05-30  22:21:09    22           22               80\n",
      "131943  2011-05-30  22:27:11    22           22              195\n",
      "131944  2011-05-30  22:39:32    22           22               18\n",
      "131945  2011-05-30  22:58:54    22           22                0\n",
      "131946  2011-05-30  23:21:29    23           22               19\n",
      "131947  2011-05-30  23:23:30    23           22              158\n",
      "131948  2011-05-30  23:28:44    23           22               54\n",
      "131949  2011-05-30  23:35:45    23           22               59\n",
      "131950  2011-05-30  23:50:47    23           22              123\n",
      "\n",
      "[131951 rows x 5 columns]\n"
     ]
    }
   ],
   "source": [
    "print turnstile_weather[['daten', 'timen', 'hour', 'hour_bucket', 'entriesn_hourly']]"
   ]
  },
  {
   "cell_type": "code",
   "execution_count": 75,
   "metadata": {
    "collapsed": false
   },
   "outputs": [],
   "source": [
    "import pandasql\n",
    "q = \"\"\"\n",
    "select hour_bucket, sum(entriesn_hourly)\n",
    "from turnstile_weather\n",
    "group by hour_bucket\n",
    "\"\"\"\n",
    "entries_hour_bucket = pandasql.sqldf(q.lower(), locals())"
   ]
  },
  {
   "cell_type": "code",
   "execution_count": 76,
   "metadata": {
    "collapsed": false
   },
   "outputs": [
    {
     "name": "stdout",
     "output_type": "stream",
     "text": [
      "   hour_bucket  sum(entriesn_hourly)\n",
      "0            2              16286279\n",
      "1            6               4184721\n",
      "2           10              18497445\n",
      "3           14              33835888\n",
      "4           18              32553515\n",
      "5           22              39174479\n"
     ]
    }
   ],
   "source": [
    "print entries_hour_bucket"
   ]
  },
  {
   "cell_type": "markdown",
   "metadata": {},
   "source": [
    "We can now plot the result."
   ]
  },
  {
   "cell_type": "code",
   "execution_count": 77,
   "metadata": {
    "collapsed": false
   },
   "outputs": [
    {
     "data": {
      "image/png": "[encoded data removed]",
      "text/plain": [
       "<matplotlib.figure.Figure at 0x10d259f50>"
      ]
     },
     "metadata": {},
     "output_type": "display_data"
    },
    {
     "data": {
      "text/plain": [
       "<ggplot: (282221009)>"
      ]
     },
     "execution_count": 77,
     "metadata": {},
     "output_type": "execute_result"
    }
   ],
   "source": [
    "ggplot(entries_hour_bucket, aes('hour_bucket', 'sum(entriesn_hourly)')) + geom_point(color='red') + \\\n",
    "    geom_line(color='red') + xlab('Hour') + ylab('Number of riderships')"
   ]
  },
  {
   "cell_type": "markdown",
   "metadata": {},
   "source": [
    "Select the top 4 stations"
   ]
  },
  {
   "cell_type": "code",
   "execution_count": 78,
   "metadata": {
    "collapsed": true
   },
   "outputs": [],
   "source": [
    "q = \"\"\"\n",
    "select unit, sum(entriesn_hourly)\n",
    "from turnstile_weather\n",
    "group by unit\n",
    "\"\"\"\n",
    "entries_unit = pandasql.sqldf(q.lower(), locals())"
   ]
  },
  {
   "cell_type": "code",
   "execution_count": 79,
   "metadata": {
    "collapsed": false
   },
   "outputs": [
    {
     "name": "stdout",
     "output_type": "stream",
     "text": [
      "[u'R170' u'R084' u'R022' u'R033' u'R046']\n"
     ]
    }
   ],
   "source": [
    "entries_unit_top_5 = entries_unit.sort(columns='sum(entriesn_hourly)', ascending=False).head(5)\n",
    "unit_top_5 = entries_unit_top_5['unit'].values\n",
    "print unit_top_5"
   ]
  },
  {
   "cell_type": "code",
   "execution_count": 80,
   "metadata": {
    "collapsed": false
   },
   "outputs": [],
   "source": [
    "turnstile_weather_small = turnstile_weather[turnstile_weather['unit'].isin(unit_top_5)]"
   ]
  },
  {
   "cell_type": "code",
   "execution_count": 81,
   "metadata": {
    "collapsed": false
   },
   "outputs": [
    {
     "name": "stdout",
     "output_type": "stream",
     "text": [
      "        unnamed:_0  unit       daten     timen  hour    descn  \\\n",
      "120            120  R022  2011-05-01  00:00:00     0  REGULAR   \n",
      "121            121  R022  2011-05-01  04:00:00     4  REGULAR   \n",
      "122            122  R022  2011-05-01  08:00:00     8  REGULAR   \n",
      "123            123  R022  2011-05-01  12:00:00    12  REGULAR   \n",
      "124            124  R022  2011-05-01  16:00:00    16  REGULAR   \n",
      "125            125  R022  2011-05-01  20:00:00    20  REGULAR   \n",
      "183            183  R033  2011-05-01  00:00:00     0  REGULAR   \n",
      "184            184  R033  2011-05-01  04:00:00     4  REGULAR   \n",
      "185            185  R033  2011-05-01  08:00:00     8  REGULAR   \n",
      "186            186  R033  2011-05-01  12:00:00    12  REGULAR   \n",
      "187            187  R033  2011-05-01  16:00:00    16  REGULAR   \n",
      "188            188  R033  2011-05-01  20:00:00    20  REGULAR   \n",
      "277            277  R046  2011-05-01  00:00:00     0  REGULAR   \n",
      "278            278  R046  2011-05-01  04:00:00     4  REGULAR   \n",
      "279            279  R046  2011-05-01  08:00:00     8  REGULAR   \n",
      "280            280  R046  2011-05-01  12:00:00    12  REGULAR   \n",
      "281            281  R046  2011-05-01  16:00:00    16  REGULAR   \n",
      "282            282  R046  2011-05-01  20:00:00    20  REGULAR   \n",
      "460            460  R084  2011-05-01  00:00:00     0  REGULAR   \n",
      "461            461  R084  2011-05-01  04:00:00     4  REGULAR   \n",
      "462            462  R084  2011-05-01  08:00:00     8  REGULAR   \n",
      "463            463  R084  2011-05-01  12:00:00    12  REGULAR   \n",
      "464            464  R084  2011-05-01  13:28:53    13  REGULAR   \n",
      "465            465  R084  2011-05-01  16:00:00    16  REGULAR   \n",
      "466            466  R084  2011-05-01  16:08:49    16  REGULAR   \n",
      "467            467  R084  2011-05-01  20:00:00    20  REGULAR   \n",
      "468            468  R084  2011-05-01  23:03:16    23  REGULAR   \n",
      "979            979  R170  2011-05-01  01:00:00     1  REGULAR   \n",
      "980            980  R170  2011-05-01  05:00:00     5  REGULAR   \n",
      "981            981  R170  2011-05-01  09:00:00     9  REGULAR   \n",
      "...            ...   ...         ...       ...   ...      ...   \n",
      "127786      127786  R033  2011-05-30  00:00:00     0  REGULAR   \n",
      "127787      127787  R033  2011-05-30  04:00:00     4  REGULAR   \n",
      "127788      127788  R033  2011-05-30  08:00:00     8  REGULAR   \n",
      "127789      127789  R033  2011-05-30  12:00:00    12  REGULAR   \n",
      "127790      127790  R033  2011-05-30  12:49:45    12  REGULAR   \n",
      "127791      127791  R033  2011-05-30  12:55:01    12  REGULAR   \n",
      "127792      127792  R033  2011-05-30  16:00:00    16  REGULAR   \n",
      "127793      127793  R033  2011-05-30  20:00:00    20  REGULAR   \n",
      "127883      127883  R046  2011-05-30  00:00:00     0  REGULAR   \n",
      "127884      127884  R046  2011-05-30  04:00:00     4  REGULAR   \n",
      "127885      127885  R046  2011-05-30  08:00:00     8  REGULAR   \n",
      "127886      127886  R046  2011-05-30  12:00:00    12  REGULAR   \n",
      "127887      127887  R046  2011-05-30  16:00:00    16  REGULAR   \n",
      "127888      127888  R046  2011-05-30  20:00:00    20  REGULAR   \n",
      "128063      128063  R084  2011-05-30  00:00:00     0  REGULAR   \n",
      "128064      128064  R084  2011-05-30  02:48:32     2  REGULAR   \n",
      "128065      128065  R084  2011-05-30  04:00:00     4  REGULAR   \n",
      "128066      128066  R084  2011-05-30  08:00:00     8  REGULAR   \n",
      "128067      128067  R084  2011-05-30  12:00:00    12  REGULAR   \n",
      "128068      128068  R084  2011-05-30  14:48:41    14  REGULAR   \n",
      "128069      128069  R084  2011-05-30  15:55:47    15  REGULAR   \n",
      "128070      128070  R084  2011-05-30  16:00:00    16  REGULAR   \n",
      "128071      128071  R084  2011-05-30  20:00:00    20  REGULAR   \n",
      "128582      128582  R170  2011-05-30  01:00:00     1  REGULAR   \n",
      "128583      128583  R170  2011-05-30  05:00:00     5  REGULAR   \n",
      "128584      128584  R170  2011-05-30  09:00:00     9  REGULAR   \n",
      "128585      128585  R170  2011-05-30  13:00:00    13  REGULAR   \n",
      "128586      128586  R170  2011-05-30  13:03:39    13  REGULAR   \n",
      "128587      128587  R170  2011-05-30  17:00:00    17  REGULAR   \n",
      "128588      128588  R170  2011-05-30  21:00:00    21  REGULAR   \n",
      "\n",
      "        entriesn_hourly  exitsn_hourly  maxpressurei  maxdewpti     ...       \\\n",
      "120                   0              0         30.31         42     ...        \n",
      "121                2120            945         30.31         42     ...        \n",
      "122                 603           1011         30.31         42     ...        \n",
      "123                3344           6681         30.31         42     ...        \n",
      "124                9958          11926         30.31         42     ...        \n",
      "125               15283          10256         30.31         42     ...        \n",
      "183                   0              0         30.31         42     ...        \n",
      "184                8203           1201         30.31         42     ...        \n",
      "185                 857            371         30.31         42     ...        \n",
      "186                5226           4937         30.31         42     ...        \n",
      "187                7129           8076         30.31         42     ...        \n",
      "188               12819           7315         30.31         42     ...        \n",
      "277                   0              0         30.31         42     ...        \n",
      "278                1589           1099         30.31         42     ...        \n",
      "279                 432            638         30.31         42     ...        \n",
      "280                5686           4378         30.31         42     ...        \n",
      "281                7431           5844         30.31         42     ...        \n",
      "282                7773           6372         30.31         42     ...        \n",
      "460                   0              0         30.31         42     ...        \n",
      "461                2395           1206         30.31         42     ...        \n",
      "462                 863           1273         30.31         42     ...        \n",
      "463                4939           7849         30.31         42     ...        \n",
      "464                 210             73         30.31         42     ...        \n",
      "465                9418          10365         30.31         42     ...        \n",
      "466                 326             80         30.31         42     ...        \n",
      "467               12954           7483         30.31         42     ...        \n",
      "468                 342            147         30.31         42     ...        \n",
      "979                   0              0         30.31         42     ...        \n",
      "980                4762           1492         30.31         42     ...        \n",
      "981                1774           3309         30.31         42     ...        \n",
      "...                 ...            ...           ...        ...     ...        \n",
      "127786            13313           5104         30.13         70     ...        \n",
      "127787             5090            756         30.13         70     ...        \n",
      "127788              676           1037         30.13         70     ...        \n",
      "127789             3974           4462         30.13         70     ...        \n",
      "127790                0              1         30.13         70     ...        \n",
      "127791                0              0         30.13         70     ...        \n",
      "127792             8105           8352         30.13         70     ...        \n",
      "127793            12043           7181         30.13         70     ...        \n",
      "127883             5100           3553         30.13         70     ...        \n",
      "127884              891            657         30.13         70     ...        \n",
      "127885              614           1354         30.13         70     ...        \n",
      "127886             4512           4111         30.13         70     ...        \n",
      "127887             7588           6217         30.13         70     ...        \n",
      "127888             9139           5668         30.13         70     ...        \n",
      "128063             7779           4647         30.13         70     ...        \n",
      "128064              258             23         30.13         70     ...        \n",
      "128065             1472            685         30.13         70     ...        \n",
      "128066              716           1207         30.13         70     ...        \n",
      "128067             3427           4961         30.13         70     ...        \n",
      "128068              293            114         30.13         70     ...        \n",
      "128069              149            184         30.13         70     ...        \n",
      "128070             7484           9221         30.13         70     ...        \n",
      "128071            10875           6572         30.13         70     ...        \n",
      "128582            12565           7165         30.13         70     ...        \n",
      "128583             2523           1059         30.13         70     ...        \n",
      "128584             1520           3794         30.13         70     ...        \n",
      "128585             6674          13357         30.13         70     ...        \n",
      "128586                3              6         30.13         70     ...        \n",
      "128587            17175          21389         30.13         70     ...        \n",
      "128588            17522          15561         30.13         70     ...        \n",
      "\n",
      "        fog  rain  meanwindspdi  mintempi  meantempi  maxtempi  precipi  \\\n",
      "120       0     0             5        50         60        69     0.00   \n",
      "121       0     0             5        50         60        69     0.00   \n",
      "122       0     0             5        50         60        69     0.00   \n",
      "123       0     0             5        50         60        69     0.00   \n",
      "124       0     0             5        50         60        69     0.00   \n",
      "125       0     0             5        50         60        69     0.00   \n",
      "183       0     0             5        50         60        69     0.00   \n",
      "184       0     0             5        50         60        69     0.00   \n",
      "185       0     0             5        50         60        69     0.00   \n",
      "186       0     0             5        50         60        69     0.00   \n",
      "187       0     0             5        50         60        69     0.00   \n",
      "188       0     0             5        50         60        69     0.00   \n",
      "277       0     0             5        50         60        69     0.00   \n",
      "278       0     0             5        50         60        69     0.00   \n",
      "279       0     0             5        50         60        69     0.00   \n",
      "280       0     0             5        50         60        69     0.00   \n",
      "281       0     0             5        50         60        69     0.00   \n",
      "282       0     0             5        50         60        69     0.00   \n",
      "460       0     0             5        50         60        69     0.00   \n",
      "461       0     0             5        50         60        69     0.00   \n",
      "462       0     0             5        50         60        69     0.00   \n",
      "463       0     0             5        50         60        69     0.00   \n",
      "464       0     0             5        50         60        69     0.00   \n",
      "465       0     0             5        50         60        69     0.00   \n",
      "466       0     0             5        50         60        69     0.00   \n",
      "467       0     0             5        50         60        69     0.00   \n",
      "468       0     0             5        50         60        69     0.00   \n",
      "979       0     0             5        50         60        69     0.00   \n",
      "980       0     0             5        50         60        69     0.00   \n",
      "981       0     0             5        50         60        69     0.00   \n",
      "...     ...   ...           ...       ...        ...       ...      ...   \n",
      "127786    0     1             5        70         78        86     0.29   \n",
      "127787    0     1             5        70         78        86     0.29   \n",
      "127788    0     1             5        70         78        86     0.29   \n",
      "127789    0     1             5        70         78        86     0.29   \n",
      "127790    0     1             5        70         78        86     0.29   \n",
      "127791    0     1             5        70         78        86     0.29   \n",
      "127792    0     1             5        70         78        86     0.29   \n",
      "127793    0     1             5        70         78        86     0.29   \n",
      "127883    0     1             5        70         78        86     0.29   \n",
      "127884    0     1             5        70         78        86     0.29   \n",
      "127885    0     1             5        70         78        86     0.29   \n",
      "127886    0     1             5        70         78        86     0.29   \n",
      "127887    0     1             5        70         78        86     0.29   \n",
      "127888    0     1             5        70         78        86     0.29   \n",
      "128063    0     1             5        70         78        86     0.29   \n",
      "128064    0     1             5        70         78        86     0.29   \n",
      "128065    0     1             5        70         78        86     0.29   \n",
      "128066    0     1             5        70         78        86     0.29   \n",
      "128067    0     1             5        70         78        86     0.29   \n",
      "128068    0     1             5        70         78        86     0.29   \n",
      "128069    0     1             5        70         78        86     0.29   \n",
      "128070    0     1             5        70         78        86     0.29   \n",
      "128071    0     1             5        70         78        86     0.29   \n",
      "128582    0     1             5        70         78        86     0.29   \n",
      "128583    0     1             5        70         78        86     0.29   \n",
      "128584    0     1             5        70         78        86     0.29   \n",
      "128585    0     1             5        70         78        86     0.29   \n",
      "128586    0     1             5        70         78        86     0.29   \n",
      "128587    0     1             5        70         78        86     0.29   \n",
      "128588    0     1             5        70         78        86     0.29   \n",
      "\n",
      "        thunder  week_day  hour_bucket  \n",
      "120           0         6            2  \n",
      "121           0         6            6  \n",
      "122           0         6           10  \n",
      "123           0         6           14  \n",
      "124           0         6           18  \n",
      "125           0         6           22  \n",
      "183           0         6            2  \n",
      "184           0         6            6  \n",
      "185           0         6           10  \n",
      "186           0         6           14  \n",
      "187           0         6           18  \n",
      "188           0         6           22  \n",
      "277           0         6            2  \n",
      "278           0         6            6  \n",
      "279           0         6           10  \n",
      "280           0         6           14  \n",
      "281           0         6           18  \n",
      "282           0         6           22  \n",
      "460           0         6            2  \n",
      "461           0         6            6  \n",
      "462           0         6           10  \n",
      "463           0         6           14  \n",
      "464           0         6           14  \n",
      "465           0         6           18  \n",
      "466           0         6           18  \n",
      "467           0         6           22  \n",
      "468           0         6           22  \n",
      "979           0         6            2  \n",
      "980           0         6            6  \n",
      "981           0         6           10  \n",
      "...         ...       ...          ...  \n",
      "127786        0         0            2  \n",
      "127787        0         0            6  \n",
      "127788        0         0           10  \n",
      "127789        0         0           14  \n",
      "127790        0         0           14  \n",
      "127791        0         0           14  \n",
      "127792        0         0           18  \n",
      "127793        0         0           22  \n",
      "127883        0         0            2  \n",
      "127884        0         0            6  \n",
      "127885        0         0           10  \n",
      "127886        0         0           14  \n",
      "127887        0         0           18  \n",
      "127888        0         0           22  \n",
      "128063        0         0            2  \n",
      "128064        0         0            2  \n",
      "128065        0         0            6  \n",
      "128066        0         0           10  \n",
      "128067        0         0           14  \n",
      "128068        0         0           14  \n",
      "128069        0         0           14  \n",
      "128070        0         0           18  \n",
      "128071        0         0           22  \n",
      "128582        0         0            2  \n",
      "128583        0         0            6  \n",
      "128584        0         0           10  \n",
      "128585        0         0           14  \n",
      "128586        0         0           14  \n",
      "128587        0         0           18  \n",
      "128588        0         0           22  \n",
      "\n",
      "[1117 rows x 24 columns]\n"
     ]
    }
   ],
   "source": [
    "print turnstile_weather_small"
   ]
  },
  {
   "cell_type": "code",
   "execution_count": null,
   "metadata": {
    "collapsed": true
   },
   "outputs": [],
   "source": []
  }
 ],
 "metadata": {
  "kernelspec": {
   "display_name": "Python 2",
   "language": "python",
   "name": "python2"
  },
  "language_info": {
   "codemirror_mode": {
    "name": "ipython",
    "version": 2
   },
   "file_extension": ".py",
   "mimetype": "text/x-python",
   "name": "python",
   "nbconvert_exporter": "python",
   "pygments_lexer": "ipython2",
   "version": "2.7.10"
  }
 },
 "nbformat": 4,
 "nbformat_minor": 0
}
