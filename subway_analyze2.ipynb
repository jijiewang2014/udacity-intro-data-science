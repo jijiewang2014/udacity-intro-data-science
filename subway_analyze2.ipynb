{
 "cells": [
  {
   "cell_type": "markdown",
   "metadata": {
    "collapsed": true
   },
   "source": [
    "New attempt to make it better."
   ]
  },
  {
   "cell_type": "code",
   "execution_count": 1,
   "metadata": {
    "collapsed": true
   },
   "outputs": [],
   "source": [
    "%matplotlib inline"
   ]
  },
  {
   "cell_type": "code",
   "execution_count": 2,
   "metadata": {
    "collapsed": true
   },
   "outputs": [],
   "source": [
    "import numpy as np\n",
    "from pandas import *\n",
    "from ggplot import *"
   ]
  },
  {
   "cell_type": "code",
   "execution_count": 5,
   "metadata": {
    "collapsed": true
   },
   "outputs": [],
   "source": [
    "turnstile_weather = pandas.read_csv('data/turnstile_data_master_with_weather.csv')"
   ]
  },
  {
   "cell_type": "code",
   "execution_count": 6,
   "metadata": {
    "collapsed": false
   },
   "outputs": [
    {
     "name": "stdout",
     "output_type": "stream",
     "text": [
      "Index([u'Unnamed: 0', u'UNIT', u'DATEn', u'TIMEn', u'Hour', u'DESCn',\n",
      "       u'ENTRIESn_hourly', u'EXITSn_hourly', u'maxpressurei', u'maxdewpti',\n",
      "       u'mindewpti', u'minpressurei', u'meandewpti', u'meanpressurei', u'fog',\n",
      "       u'rain', u'meanwindspdi', u'mintempi', u'meantempi', u'maxtempi',\n",
      "       u'precipi', u'thunder'],\n",
      "      dtype='object')\n"
     ]
    }
   ],
   "source": [
    "print turnstile_weather.columns"
   ]
  },
  {
   "cell_type": "code",
   "execution_count": 7,
   "metadata": {
    "collapsed": true
   },
   "outputs": [],
   "source": [
    "def normalize_features(df):\n",
    "    mu = df.mean()\n",
    "    sigma = df.std()    \n",
    "    if (sigma == 0).any():\n",
    "        raise Exception(\"One or more features had the same value for all samples, and thus could \" + \\\n",
    "                         \"not be normalized. Please do not include features with only a single value \" + \\\n",
    "                         \"in your model.\")\n",
    "    df_normalized = (df - df.mean()) / df.std()\n",
    "    return df_normalized, mu, sigma"
   ]
  },
  {
   "cell_type": "code",
   "execution_count": 8,
   "metadata": {
    "collapsed": true
   },
   "outputs": [],
   "source": [
    "def compute_cost(features, values, theta):\n",
    "    m = len(values)\n",
    "    sum_of_square_errors = np.square(np.dot(features, theta) - values).sum()\n",
    "    cost = sum_of_square_errors / (2*m)\n",
    "    return cost"
   ]
  },
  {
   "cell_type": "code",
   "execution_count": 9,
   "metadata": {
    "collapsed": true
   },
   "outputs": [],
   "source": [
    "def gradient_descent(features, values, theta, alpha, num_iterations):\n",
    "    m = len(values)\n",
    "    cost_history = []\n",
    "    for i in range(num_iterations):\n",
    "        predicted_values = np.dot(features, theta)\n",
    "        theta = theta - alpha / m * np.dot((predicted_values - values), features)\n",
    "        cost = compute_cost(features, values, theta)\n",
    "        cost_history.append(cost)       \n",
    "    return theta, pandas.Series(cost_history)"
   ]
  },
  {
   "cell_type": "code",
   "execution_count": 11,
   "metadata": {
    "collapsed": true
   },
   "outputs": [],
   "source": [
    "def compute_r_squared(data, predictions):\n",
    "    r_squared = 1 - np.square(data - predictions).sum() / np.square(data - data.mean()).sum()\n",
    "    return r_squared"
   ]
  },
  {
   "cell_type": "code",
   "execution_count": 15,
   "metadata": {
    "collapsed": false
   },
   "outputs": [],
   "source": [
    "features = turnstile_weather[['rain', 'precipi', 'Hour', 'mintempi', 'fog']]\n",
    "dummy_units = pandas.get_dummies(turnstile_weather['UNIT'], prefix='unit')\n",
    "features = features.join(dummy_units)\n",
    "values = turnstile_weather['ENTRIESn_hourly']\n",
    "m = len(values)\n",
    "features, mu, sigma = normalize_features(features)\n",
    "features['ones'] = np.ones(m) # Add a column of 1s (y intercept)\n",
    "features_array = np.array(features)\n",
    "values_array = np.array(values)    "
   ]
  },
  {
   "cell_type": "code",
   "execution_count": 17,
   "metadata": {
    "collapsed": false
   },
   "outputs": [],
   "source": [
    "alpha = 0.1 # please feel free to change this value\n",
    "num_iterations = 75 # please feel free to change this value\n",
    "theta_gradient_descent = np.zeros(len(features.columns))\n",
    "theta_gradient_descent, cost_history = gradient_descent(features_array, \n",
    "                                                        values_array, \n",
    "                                                        theta_gradient_descent, \n",
    "                                                        alpha, \n",
    "                                                        num_iterations)\n",
    "prediction = np.dot(features_array, theta_gradient_descent)"
   ]
  },
  {
   "cell_type": "code",
   "execution_count": 27,
   "metadata": {
    "collapsed": false
   },
   "outputs": [
    {
     "name": "stdout",
     "output_type": "stream",
     "text": [
      "[ -1.33673022e+01   2.82801860e+00   4.64131479e+02  -7.12795553e+01\n",
      "   4.20040010e+01   1.08906479e+02  -5.92190069e+00  -3.09481983e+01\n",
      "  -1.93952483e+01  -1.98079812e+01  -1.78887331e+01  -2.48924860e+01\n",
      "  -2.32449620e+01  -2.63787794e+01   1.30021822e+02   2.69675486e+02\n",
      "   2.55387822e+02   5.48523409e+01   1.12241509e+02   4.57453924e+01\n",
      "  -3.46143535e+00   1.20334547e+02   2.04283263e+02   7.20396845e+01\n",
      "   2.15902582e+02   1.34999308e+02   3.00691453e+02   2.10754349e+02\n",
      "   7.49032511e+01   1.56903104e+02   7.33151149e+01   4.86146194e+01\n",
      "   2.13127577e+02   6.85622479e+01   1.33246957e+02   1.17463396e+02\n",
      "   2.89606531e+02  -1.75016818e-03   8.37247067e+01  -1.00170939e+01\n",
      "  -7.36378872e+00  -3.04231911e+01  -8.75897667e+00   5.94112722e+00\n",
      "   6.61363118e+01  -1.43159947e+01  -3.29736738e+01   1.22393932e+02\n",
      "   6.86883584e+01   2.79453711e+02   1.48276059e+02   7.99814267e+00\n",
      "   7.30611042e+01   1.05433584e+02   1.50851825e+02   6.65404603e+00\n",
      "   8.08610228e+01   1.30997862e+01   2.75955359e+02   1.83731421e+01\n",
      "   1.37579659e+02  -1.62965482e+01   6.14934267e+00  -9.63879614e+00\n",
      "  -1.38526811e+01   1.04025984e+02   5.01373239e+00  -7.01278079e+00\n",
      "  -6.68451422e+00  -2.51445778e+01  -3.75514289e+00  -1.75881768e+01\n",
      "  -2.42105837e+00   2.29668257e+01   5.49611549e+01   1.03981136e+02\n",
      "   9.03152353e+01   1.46341954e+01   7.21213785e+01   2.61505733e+02\n",
      "   5.09834144e+01   5.10665203e+01   5.37451952e+00  -1.88262356e+01\n",
      "  -2.06507499e+01  -2.04623805e+01   4.48682668e+00   3.31507780e+01\n",
      "   3.64121826e+01   2.57339354e+01   5.03085536e+01   4.41632066e+01\n",
      "   6.92435764e+01   3.93381205e+01   4.41192125e+01  -1.85845333e+01\n",
      "   7.87284296e+01   9.91880853e+01   1.18605463e+01   1.07389910e+01\n",
      "   8.99645381e+01   4.30223095e+00  -1.61332016e+00   1.51226830e+02\n",
      "   1.19987805e+01   7.52360340e+01   7.53930018e+01   2.15882524e+01\n",
      "   3.23718501e+01  -5.41182360e+00   6.94899695e+00   8.26508169e+01\n",
      "  -2.25618840e+00   1.73690475e+01   2.87323528e+01   2.62038582e+01\n",
      "   1.47359611e+01   5.13922662e+01   3.25797873e+01  -1.18764774e+01\n",
      "  -1.58398625e+01   2.75701746e+01   1.24080964e+02  -1.60923261e+01\n",
      "   7.52550368e+00  -2.06953141e+01   1.02429786e+02   1.08205927e+02\n",
      "   1.15112423e+01  -1.35789622e+01  -8.71132504e-01   2.96858662e+01\n",
      "   5.02378573e+01   1.66352204e+02   5.48791172e+01   4.17407356e+00\n",
      "   1.01585378e+02   8.10975246e+01   6.62827574e+01   9.14717073e+01\n",
      "  -1.26675562e+01   1.50627241e+01   5.20636168e+01  -4.59156940e+00\n",
      "   1.30065150e+01  -2.20294640e+00   4.33565547e+01   2.71732357e+01\n",
      "   3.55652167e+01   6.73326048e+00  -1.95247007e+00  -8.37490321e+00\n",
      "   1.66923335e+00   9.69993004e+01   3.15943774e+01   5.34862006e+01\n",
      "   8.78327572e+00   7.79034084e+01   7.04668605e+01  -4.01257938e+01\n",
      "   5.02974529e+01   6.04993072e+01   1.53748240e+02   3.92747834e+01\n",
      "   4.59567388e+02   7.40975831e+00   2.95632085e+01   3.97277052e+00\n",
      "   1.66814989e+01   1.74370070e+02   1.03018355e+02   1.33691963e+02\n",
      "   1.48702800e+02   2.70901142e+02   4.33639044e+01   2.42280842e+01\n",
      "   5.20715223e+01  -4.82038885e+00   1.99455939e+00  -2.55922052e+00\n",
      "   4.97709439e+00   2.58933730e+01   5.61649297e+01   2.17599083e+01\n",
      "   3.78494454e+01   3.04597977e+01   3.26643820e+01   1.40664071e+01\n",
      "   3.45362270e+01   1.24981628e+02   1.19941962e+01   2.63927458e+01\n",
      "   4.82380062e+01  -1.08338812e+01   1.60352674e+01   7.78009991e+01\n",
      "   3.52246757e+01   2.61297677e+01   1.90853399e+01   3.04664575e+01\n",
      "   3.43312003e+01   3.33611092e+01   6.26349018e+01  -5.29301288e+00\n",
      "  -1.59273988e+01   3.63435285e+01   2.40878853e+01   6.08340589e+00\n",
      "  -9.30523842e+00   1.91477385e+01  -9.45066192e+00   1.58319296e+01\n",
      "   2.99681126e+01   5.03129954e+00   1.16824117e+01   1.50440445e+01\n",
      "   4.52412722e+01   3.95378500e+01  -8.52737910e+00  -1.71023478e+01\n",
      "  -7.56562167e+00   3.76969195e+00   1.83575770e+00  -1.29884129e+01\n",
      "  -1.67344815e+01  -1.31403669e+00   3.07413806e+00   4.20037399e+00\n",
      "  -2.12352074e+01   9.48030665e+01   1.81740006e+01  -1.07167702e+01\n",
      "   3.74785295e+01  -4.19495112e+00   9.15995642e+01  -2.29251749e+01\n",
      "  -1.48540636e+01   1.23992478e+01   1.09666371e+01  -9.31558250e+00\n",
      "  -2.67796808e+01   8.39053811e+01   1.30336683e+01   3.43582406e-01\n",
      "   9.72620207e+00  -2.58919835e+00  -1.07223476e+01   5.41398625e+01\n",
      "  -8.20834834e+00   3.50741353e-01   2.93750586e+01   2.66761478e+01\n",
      "  -1.47315916e+00   1.92813770e+01   1.88396069e+01  -1.56855684e+01\n",
      "  -3.50551417e+01  -2.12101065e+01  -2.25232795e+00  -4.81087078e+00\n",
      "   5.81361397e+00   4.21256273e+01  -5.72188202e+00  -1.63609238e+01\n",
      "  -2.14507847e+01   2.62875767e+01   1.72710720e+01  -1.73407300e+00\n",
      "  -1.51752812e+01   1.05781787e+01  -1.62473475e+01  -2.11356384e+01\n",
      "  -8.86021979e+00  -1.09811921e+01   8.30057170e+00   2.03107597e+01\n",
      "  -1.53722989e+01  -9.82342928e+00  -1.66117903e+01  -1.77078740e+01\n",
      "  -1.30262345e+01   3.06826955e+01  -2.37457532e+01   2.73711925e+01\n",
      "   2.55447273e+01  -2.11604065e+01   2.10828234e+02  -1.98066498e+00\n",
      "  -1.15159641e+01  -1.92905409e+01  -8.60039816e+00  -5.34887470e+00\n",
      "  -2.30692051e+01   5.82246564e+01  -1.66620431e+00   3.17728192e+01\n",
      "   7.22249280e+00  -9.81813073e-01  -2.91098659e+01  -2.05841601e+01\n",
      "  -8.60740612e+00  -7.09278995e+00   2.06348058e+01  -2.06210803e+01\n",
      "  -2.72386967e+01  -3.01241483e+01  -1.74180781e+01  -1.90901054e+01\n",
      "  -3.07741666e+01  -1.37603251e+01  -1.76560365e+01   3.84231231e+01\n",
      "  -1.08438518e+01  -1.54851269e-01   2.67286515e+01   8.97046615e+00\n",
      "   1.73377354e+01  -2.27187691e+01  -2.72097542e+01  -5.13356879e+00\n",
      "  -6.89731159e+00  -3.11450436e+01  -5.35394564e-01  -2.71680721e+01\n",
      "  -1.36545454e+01  -9.16848406e+00  -4.26378788e+00  -1.96010827e+01\n",
      "  -3.32197662e+01  -3.21268591e+01  -3.77575833e+01  -2.38506785e+01\n",
      "  -2.19238975e+01  -1.94951536e+01  -1.44407112e+01  -1.26617480e+01\n",
      "  -1.91864803e+01  -1.82457546e+01   5.37896785e+00  -1.29190506e+01\n",
      "  -3.02749128e+01  -1.67886498e+01  -2.58240594e+01  -2.29564646e+01\n",
      "  -1.61280293e+01  -2.77717595e+01  -2.85296865e+01   2.19293073e+00\n",
      "  -3.42060480e+01  -2.66609869e+01   3.62301021e+01  -3.42507024e+01\n",
      "   3.50074353e+00  -1.04310212e+01  -2.37705358e+01  -3.69239229e+00\n",
      "  -2.33069758e+01  -1.78751678e+01  -1.29042923e+01  -1.29830846e+01\n",
      "  -2.23617643e+01  -1.87376781e+01  -1.07113791e+01  -9.49756447e+00\n",
      "  -1.34727108e+01  -8.10190878e+00  -1.78466619e+01  -2.18379809e+01\n",
      "   4.41010523e+00   1.21116345e+01  -1.56383091e+01  -8.60901323e+00\n",
      "  -9.76057028e+00  -3.63825538e+00  -1.89414762e+01  -2.70454047e+01\n",
      "  -7.07928021e-01  -3.92017957e+00  -2.58617723e+00  -1.14163276e+00\n",
      "  -2.65334684e+01   1.67454558e+01  -6.26953198e+00  -7.40826186e+00\n",
      "  -1.89066144e+01  -2.08617375e+00  -1.25147964e+01  -1.88142577e+01\n",
      "  -2.63051295e+01  -9.02492568e+00  -1.96223917e+01  -2.39923069e+01\n",
      "  -2.69077029e+01  -2.82596674e+01  -2.06870993e+01  -1.25584478e+01\n",
      "  -1.38321070e+01  -2.92702798e+00  -2.47508527e+01   8.91903910e+00\n",
      "  -1.90404328e+01  -2.90517131e+01  -2.89409865e+01  -2.23402968e+01\n",
      "  -2.91898671e+01  -4.04718806e+01  -3.26377745e+01  -3.31536602e+01\n",
      "  -3.93213708e+01  -3.60726534e+01  -1.74129254e+01  -2.85252366e+01\n",
      "  -3.28373606e+01  -2.24362247e+01  -2.19286970e+01  -2.82733209e+01\n",
      "  -3.21725912e+01  -3.07242021e+01  -2.39279196e+01  -2.73748852e+00\n",
      "  -2.37755316e+01  -1.75430945e+01  -2.35149508e+01  -2.67704341e+01\n",
      "  -2.51402102e+01  -2.28649806e+01  -2.32942566e+01  -1.34661425e+01\n",
      "  -1.27189079e+01  -1.51929256e+01  -2.54545441e+01  -2.44013567e+01\n",
      "  -2.46477965e+01  -6.16344058e+00  -2.32471759e+01  -1.30048818e+00\n",
      "  -7.40775303e+00  -2.18019813e+01  -3.86944614e+01  -1.69941852e+01\n",
      "  -1.97712712e+01  -4.90813888e+00   1.74897327e+02   2.72996408e+01\n",
      "  -3.07585929e+01  -3.28479865e+01  -2.99468960e+01  -2.33164541e+01\n",
      "   1.82812393e+01   7.64581153e+01   3.61622976e+01   7.83376423e+01\n",
      "  -3.73612161e+01  -2.24277235e+01  -2.21780367e+01  -2.31752203e+01\n",
      "  -2.81939715e+01  -1.60709645e+02  -2.07069165e+02  -1.07338426e+02\n",
      "  -1.84372617e+02  -1.31380321e+02  -1.19082373e+02  -1.01066351e+02\n",
      "  -7.70031975e+01  -6.53485324e+01  -3.16946872e+02  -2.34838059e+02\n",
      "  -1.56275428e+02  -1.54998137e+02   1.09494321e+03]\n"
     ]
    }
   ],
   "source": [
    "print theta_gradient_descent"
   ]
  },
  {
   "cell_type": "code",
   "execution_count": 18,
   "metadata": {
    "collapsed": false
   },
   "outputs": [
    {
     "name": "stdout",
     "output_type": "stream",
     "text": [
      "0.458583922399\n"
     ]
    }
   ],
   "source": [
    "print compute_r_squared(values_array, prediction)"
   ]
  },
  {
   "cell_type": "code",
   "execution_count": 22,
   "metadata": {
    "collapsed": true
   },
   "outputs": [],
   "source": [
    "import statsmodels.api as sm"
   ]
  },
  {
   "cell_type": "code",
   "execution_count": 23,
   "metadata": {
    "collapsed": true
   },
   "outputs": [],
   "source": [
    "features = turnstile_weather[['rain', 'precipi', 'Hour', 'mintempi', 'fog']]\n",
    "values = turnstile_weather['ENTRIESn_hourly']\n",
    "features_array = np.array(features)\n",
    "values_array = np.array(values)"
   ]
  },
  {
   "cell_type": "code",
   "execution_count": 24,
   "metadata": {
    "collapsed": false
   },
   "outputs": [],
   "source": [
    "features_array_constant = sm.add_constant(features_array)\n",
    "model = sm.OLS(values_array, features_array_constant)\n",
    "theta_statsmodels = model.fit().params\n",
    "prediction = np.dot(features_array_constant, theta_statsmodels)    "
   ]
  },
  {
   "cell_type": "code",
   "execution_count": 26,
   "metadata": {
    "collapsed": false
   },
   "outputs": [
    {
     "name": "stdout",
     "output_type": "stream",
     "text": [
      "[ 1106.72868003   -34.09989023     8.51130258    59.48934704   -11.92516896\n",
      "   120.76571078]\n"
     ]
    }
   ],
   "source": [
    "print theta_statsmodels"
   ]
  },
  {
   "cell_type": "code",
   "execution_count": 25,
   "metadata": {
    "collapsed": false
   },
   "outputs": [
    {
     "name": "stdout",
     "output_type": "stream",
     "text": [
      "0.0319297936738\n"
     ]
    }
   ],
   "source": [
    "print compute_r_squared(values_array, prediction)"
   ]
  },
  {
   "cell_type": "code",
   "execution_count": null,
   "metadata": {
    "collapsed": true
   },
   "outputs": [],
   "source": []
  }
 ],
 "metadata": {
  "kernelspec": {
   "display_name": "Python 2",
   "language": "python",
   "name": "python2"
  },
  "language_info": {
   "codemirror_mode": {
    "name": "ipython",
    "version": 2
   },
   "file_extension": ".py",
   "mimetype": "text/x-python",
   "name": "python",
   "nbconvert_exporter": "python",
   "pygments_lexer": "ipython2",
   "version": "2.7.10"
  }
 },
 "nbformat": 4,
 "nbformat_minor": 0
}
