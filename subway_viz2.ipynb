{
 "cells": [
  {
   "cell_type": "markdown",
   "metadata": {},
   "source": [
    "For the [exercise 2, lesson 4](https://www.udacity.com/course/viewer#!/c-ud359/l-729939275/e-712470090/m-712470091), the goal is to generate another visualization, based on the same data set. As there is some kind of incentive to make something more advanced, I will plot a [ggplot facet](http://ggplot.yhathq.com/docs/facet_grid.html). A faceted plot is as way to display a third and a fourth variable. In this notebook I will plot the number of riderships throughout the day, by day of week and for the 5 crowdiest stations (``unit`` in the data set)."
   ]
  },
  {
   "cell_type": "markdown",
   "metadata": {},
   "source": [
    "We will use the now usually tools:"
   ]
  },
  {
   "cell_type": "code",
   "execution_count": 1,
   "metadata": {
    "collapsed": true
   },
   "outputs": [],
   "source": [
    "%matplotlib inline\n",
    "import pandas as pd\n",
    "import pandasql\n",
    "from ggplot import *\n",
    "from datetime import *"
   ]
  },
  {
   "cell_type": "markdown",
   "metadata": {},
   "source": [
    "As for the previous exercise, we will import the data set, rename the columns to use ``pandasql`` and add the week day:"
   ]
  },
  {
   "cell_type": "code",
   "execution_count": 2,
   "metadata": {
    "collapsed": false
   },
   "outputs": [],
   "source": [
    "turnstile_weather = pd.read_csv('data/turnstile_data_master_with_weather.csv')\n",
    "turnstile_weather.is_copy = False"
   ]
  },
  {
   "cell_type": "code",
   "execution_count": 3,
   "metadata": {
    "collapsed": true
   },
   "outputs": [],
   "source": [
    "turnstile_weather.rename(columns = lambda x: x.replace(' ', '_').lower(), inplace=True) "
   ]
  },
  {
   "cell_type": "code",
   "execution_count": 4,
   "metadata": {
    "collapsed": false
   },
   "outputs": [],
   "source": [
    "turnstile_weather['week_day'] = turnstile_weather['daten'].map(\n",
    "            lambda x: datetime.strptime(x, '%Y-%m-%d').weekday())"
   ]
  },
  {
   "cell_type": "markdown",
   "metadata": {},
   "source": [
    "The number of riderships cannot be plotted directly. Most of the time, the number of riderships is given every 4 hours, in some cases starting from 0:00 and in some other cases starting from 1:00. Intermediate values are also sometimes given. To make it consistent, I will aggregate the number of entries by bucket of 4 hours. To make it look nice on the display, the bucket 2 will be fed will all the entries between 0:00 and 3:59. "
   ]
  },
  {
   "cell_type": "code",
   "execution_count": 5,
   "metadata": {
    "collapsed": true
   },
   "outputs": [],
   "source": [
    "def clean_hour(hour):\n",
    "    if hour < 4:\n",
    "        hour_bucket = 2\n",
    "    if hour >= 4 and hour < 8:\n",
    "        hour_bucket = 6\n",
    "    if hour >= 8 and hour < 12:\n",
    "        hour_bucket = 10\n",
    "    if hour >= 12 and hour < 16:\n",
    "        hour_bucket = 14\n",
    "    if hour >= 16 and hour < 20:\n",
    "        hour_bucket = 18\n",
    "    if hour >= 20:\n",
    "        hour_bucket = 22\n",
    "    return hour_bucket"
   ]
  },
  {
   "cell_type": "code",
   "execution_count": 6,
   "metadata": {
    "collapsed": false
   },
   "outputs": [],
   "source": [
    "turnstile_weather['hour_bucket'] = turnstile_weather['hour'].map(clean_hour)"
   ]
  },
  {
   "cell_type": "markdown",
   "metadata": {},
   "source": [
    "Let's have a quick look at the data set to see the result:"
   ]
  },
  {
   "cell_type": "code",
   "execution_count": 7,
   "metadata": {
    "collapsed": false
   },
   "outputs": [
    {
     "name": "stdout",
     "output_type": "stream",
     "text": [
      "             daten     timen  hour  hour_bucket  entriesn_hourly\n",
      "0       2011-05-01  01:00:00     1            2                0\n",
      "1       2011-05-01  05:00:00     5            6              217\n",
      "2       2011-05-01  09:00:00     9           10              890\n",
      "3       2011-05-01  13:00:00    13           14             2451\n",
      "4       2011-05-01  17:00:00    17           18             4400\n",
      "5       2011-05-01  21:00:00    21           22             3372\n",
      "6       2011-05-01  01:00:00     1            2                0\n",
      "7       2011-05-01  05:00:00     5            6               42\n",
      "8       2011-05-01  09:00:00     9           10               50\n",
      "9       2011-05-01  13:00:00    13           14              316\n",
      "10      2011-05-01  17:00:00    17           18              633\n",
      "11      2011-05-01  21:00:00    21           22              639\n",
      "12      2011-05-01  00:00:00     0            2                0\n",
      "13      2011-05-01  04:00:00     4            6                0\n",
      "14      2011-05-01  12:00:00    12           14                0\n",
      "15      2011-05-01  16:00:00    16           18                0\n",
      "16      2011-05-01  20:00:00    20           22                0\n",
      "17      2011-05-01  00:00:00     0            2                0\n",
      "18      2011-05-01  04:00:00     4            6                0\n",
      "19      2011-05-01  08:00:00     8           10                0\n",
      "20      2011-05-01  12:00:00    12           14                0\n",
      "21      2011-05-01  16:00:00    16           18                0\n",
      "22      2011-05-01  20:00:00    20           22                0\n",
      "23      2011-05-01  00:00:00     0            2                0\n",
      "24      2011-05-01  04:00:00     4            6                0\n",
      "25      2011-05-01  12:00:00    12           14                0\n",
      "26      2011-05-01  16:00:00    16           18                1\n",
      "27      2011-05-01  20:00:00    20           22                0\n",
      "28      2011-05-01  00:00:00     0            2                0\n",
      "29      2011-05-01  04:00:00     4            6                0\n",
      "...            ...       ...   ...          ...              ...\n",
      "131921  2011-05-30  17:55:25    17           18                6\n",
      "131922  2011-05-30  18:09:09    18           18              192\n",
      "131923  2011-05-30  18:15:11    18           18              350\n",
      "131924  2011-05-30  18:27:32    18           18               25\n",
      "131925  2011-05-30  18:46:54    18           18                0\n",
      "131926  2011-05-30  19:09:29    19           18               30\n",
      "131927  2011-05-30  19:11:30    19           18              208\n",
      "131928  2011-05-30  19:16:44    19           18              107\n",
      "131929  2011-05-30  19:23:45    19           18              139\n",
      "131930  2011-05-30  19:36:27    19           18              331\n",
      "131931  2011-05-30  19:38:47    19           18              275\n",
      "131932  2011-05-30  19:52:07    19           18              133\n",
      "131933  2011-05-30  20:10:01    20           22                7\n",
      "131934  2011-05-30  20:17:36    20           22              128\n",
      "131935  2011-05-30  20:23:06    20           22              142\n",
      "131936  2011-05-30  20:51:44    20           22                0\n",
      "131937  2011-05-30  20:58:04    20           22              248\n",
      "131938  2011-05-30  20:58:21    20           22               62\n",
      "131939  2011-05-30  21:14:49    21           22              116\n",
      "131940  2011-05-30  21:21:28    21           22               68\n",
      "131941  2011-05-30  22:07:25    22           22                7\n",
      "131942  2011-05-30  22:21:09    22           22               80\n",
      "131943  2011-05-30  22:27:11    22           22              195\n",
      "131944  2011-05-30  22:39:32    22           22               18\n",
      "131945  2011-05-30  22:58:54    22           22                0\n",
      "131946  2011-05-30  23:21:29    23           22               19\n",
      "131947  2011-05-30  23:23:30    23           22              158\n",
      "131948  2011-05-30  23:28:44    23           22               54\n",
      "131949  2011-05-30  23:35:45    23           22               59\n",
      "131950  2011-05-30  23:50:47    23           22              123\n",
      "\n",
      "[131951 rows x 5 columns]\n"
     ]
    }
   ],
   "source": [
    "print turnstile_weather[['daten', 'timen', 'hour', 'hour_bucket', 'entriesn_hourly']]"
   ]
  },
  {
   "cell_type": "markdown",
   "metadata": {},
   "source": [
    "Everything is fine so let's move to the next step, the selection of the top 5 stations (more precisely the ``unit`` field)."
   ]
  },
  {
   "cell_type": "code",
   "execution_count": 8,
   "metadata": {
    "collapsed": false
   },
   "outputs": [],
   "source": [
    "q = \"\"\"\n",
    "select unit, sum(entriesn_hourly)\n",
    "from turnstile_weather\n",
    "group by unit\n",
    "\"\"\"\n",
    "entries_unit = pandasql.sqldf(q.lower(), locals())"
   ]
  },
  {
   "cell_type": "markdown",
   "metadata": {},
   "source": [
    "Once aggregated by units, we can select the top 5 units with the ``pandas`` functions ``sort`` and ``head``."
   ]
  },
  {
   "cell_type": "code",
   "execution_count": 11,
   "metadata": {
    "collapsed": false
   },
   "outputs": [
    {
     "name": "stdout",
     "output_type": "stream",
     "text": [
      "[u'R170' u'R084' u'R022' u'R033' u'R046']\n"
     ]
    }
   ],
   "source": [
    "entries_unit_top_5 = entries_unit.sort_values(by='sum(entriesn_hourly)', ascending=False).head(5)\n",
    "unit_top_5 = entries_unit_top_5['unit'].values\n",
    "print unit_top_5"
   ]
  },
  {
   "cell_type": "markdown",
   "metadata": {},
   "source": [
    "I will now create a new pandas data set limited to the 5 units from the array above. Note the syntax to select rows from an array."
   ]
  },
  {
   "cell_type": "code",
   "execution_count": 12,
   "metadata": {
    "collapsed": false
   },
   "outputs": [],
   "source": [
    "turnstile_weather_small = turnstile_weather[turnstile_weather['unit'].isin(unit_top_5)]"
   ]
  },
  {
   "cell_type": "markdown",
   "metadata": {},
   "source": [
    "The data set is not fully clean yet. Since data will be plotted against the week day and the number of week days is variable with the month, we need to fix this bias. As done with the previous exercise, the entries will be added by date, and then averaged by week day."
   ]
  },
  {
   "cell_type": "code",
   "execution_count": 13,
   "metadata": {
    "collapsed": false
   },
   "outputs": [],
   "source": [
    "q = \"\"\"\n",
    "select unit, daten, hour_bucket, week_day, sum(entriesn_hourly)\n",
    "from turnstile_weather_small\n",
    "group by unit, daten, hour_bucket\n",
    "\"\"\"\n",
    "entries_unit_hour_bucket = pandasql.sqldf(q.lower(), locals())\n",
    "entries_unit_hour_bucket.rename(columns={'sum(entriesn_hourly)': 'entriesn_bucket'}, inplace=True)"
   ]
  },
  {
   "cell_type": "code",
   "execution_count": 14,
   "metadata": {
    "collapsed": false
   },
   "outputs": [
    {
     "name": "stdout",
     "output_type": "stream",
     "text": [
      "     unit       daten  hour_bucket  week_day  entriesn_bucket\n",
      "0    R022  2011-05-01            2         6                0\n",
      "1    R022  2011-05-01            6         6             2120\n",
      "2    R022  2011-05-01           10         6              603\n",
      "3    R022  2011-05-01           14         6             3344\n",
      "4    R022  2011-05-01           18         6             9958\n",
      "5    R022  2011-05-01           22         6            15283\n",
      "6    R022  2011-05-02            2         0             6881\n",
      "7    R022  2011-05-02            6         0              803\n",
      "8    R022  2011-05-02           10         0             1994\n",
      "9    R022  2011-05-02           14         0             6598\n",
      "10   R022  2011-05-02           18         0            12950\n",
      "11   R022  2011-05-02           22         0            26450\n",
      "12   R022  2011-05-03            2         1            13143\n",
      "13   R022  2011-05-03            6         1             7919\n",
      "14   R022  2011-05-03           10         1             1886\n",
      "15   R022  2011-05-03           14         1             7056\n",
      "16   R022  2011-05-03           18         1            15241\n",
      "17   R022  2011-05-03           22         1            32671\n",
      "18   R022  2011-05-04            2         2            11249\n",
      "19   R022  2011-05-04            6         2             1062\n",
      "20   R022  2011-05-04           10         2             1928\n",
      "21   R022  2011-05-04           14         2             9085\n",
      "22   R022  2011-05-04           18         2            14590\n",
      "23   R022  2011-05-04           22         2            30846\n",
      "24   R022  2011-05-05            2         3            11123\n",
      "25   R022  2011-05-05            6         3              809\n",
      "26   R022  2011-05-05           10         3              919\n",
      "27   R022  2011-05-05           14         3            10123\n",
      "28   R022  2011-05-05           18         3            15897\n",
      "29   R022  2011-05-05           22         3            29556\n",
      "..    ...         ...          ...       ...              ...\n",
      "870  R170  2011-05-26            2         3            17902\n",
      "871  R170  2011-05-26            6         3             4195\n",
      "872  R170  2011-05-26           10         3             7981\n",
      "873  R170  2011-05-26           14         3            14619\n",
      "874  R170  2011-05-26           18         3            28404\n",
      "875  R170  2011-05-26           22         3            36526\n",
      "876  R170  2011-05-27            2         4            20210\n",
      "877  R170  2011-05-27            6         4             5178\n",
      "878  R170  2011-05-27           10         4             7653\n",
      "879  R170  2011-05-27           14         4            15026\n",
      "880  R170  2011-05-27           18         4            34733\n",
      "881  R170  2011-05-27           22         4            32647\n",
      "882  R170  2011-05-28            2         5            19330\n",
      "883  R170  2011-05-28            6         5             4125\n",
      "884  R170  2011-05-28           10         5             2329\n",
      "885  R170  2011-05-28           14         5             8955\n",
      "886  R170  2011-05-28           18         5            20909\n",
      "887  R170  2011-05-28           22         5            22179\n",
      "888  R170  2011-05-29            2         6            15237\n",
      "889  R170  2011-05-29            6         6             4219\n",
      "890  R170  2011-05-29           10         6             1617\n",
      "891  R170  2011-05-29           14         6             7115\n",
      "892  R170  2011-05-29           18         6            16892\n",
      "893  R170  2011-05-29           22         6            18214\n",
      "894  R170  2011-05-30            2         0            12565\n",
      "895  R170  2011-05-30            6         0             2523\n",
      "896  R170  2011-05-30           10         0             1520\n",
      "897  R170  2011-05-30           14         0             6677\n",
      "898  R170  2011-05-30           18         0            17175\n",
      "899  R170  2011-05-30           22         0            17522\n",
      "\n",
      "[900 rows x 5 columns]\n"
     ]
    }
   ],
   "source": [
    "print entries_unit_hour_bucket"
   ]
  },
  {
   "cell_type": "markdown",
   "metadata": {},
   "source": [
    "We are reading to average the entries by week day, and plot the result."
   ]
  },
  {
   "cell_type": "code",
   "execution_count": 15,
   "metadata": {
    "collapsed": true
   },
   "outputs": [],
   "source": [
    "q = \"\"\"\n",
    "select unit, week_day, hour_bucket, avg(entriesn_bucket)\n",
    "from entries_unit_hour_bucket\n",
    "group by unit, week_day, hour_bucket\n",
    "\"\"\"\n",
    "entries_unit_week_day = pandasql.sqldf(q.lower(), locals())"
   ]
  },
  {
   "cell_type": "code",
   "execution_count": 16,
   "metadata": {
    "collapsed": false
   },
   "outputs": [
    {
     "name": "stderr",
     "output_type": "stream",
     "text": [
      "/Users/arnaud/anaconda/lib/python2.7/site-packages/matplotlib/__init__.py:872: UserWarning: axes.color_cycle is deprecated and replaced with axes.prop_cycle; please use the latter.\n",
      "  warnings.warn(self.msg_depr % (key, alt_key))\n"
     ]
    },
    {
     "ename": "TypeError",
     "evalue": "__init__() got multiple values for keyword argument 'width'",
     "output_type": "error",
     "traceback": [
      "\u001b[0;31m---------------------------------------------------------------------------\u001b[0m",
      "\u001b[0;31mTypeError\u001b[0m                                 Traceback (most recent call last)",
      "\u001b[0;32m/Users/arnaud/anaconda/lib/python2.7/site-packages/IPython/core/formatters.pyc\u001b[0m in \u001b[0;36m__call__\u001b[0;34m(self, obj)\u001b[0m\n\u001b[1;32m    695\u001b[0m                 \u001b[0mtype_pprinters\u001b[0m\u001b[0;34m=\u001b[0m\u001b[0mself\u001b[0m\u001b[0;34m.\u001b[0m\u001b[0mtype_printers\u001b[0m\u001b[0;34m,\u001b[0m\u001b[0;34m\u001b[0m\u001b[0m\n\u001b[1;32m    696\u001b[0m                 deferred_pprinters=self.deferred_printers)\n\u001b[0;32m--> 697\u001b[0;31m             \u001b[0mprinter\u001b[0m\u001b[0;34m.\u001b[0m\u001b[0mpretty\u001b[0m\u001b[0;34m(\u001b[0m\u001b[0mobj\u001b[0m\u001b[0;34m)\u001b[0m\u001b[0;34m\u001b[0m\u001b[0m\n\u001b[0m\u001b[1;32m    698\u001b[0m             \u001b[0mprinter\u001b[0m\u001b[0;34m.\u001b[0m\u001b[0mflush\u001b[0m\u001b[0;34m(\u001b[0m\u001b[0;34m)\u001b[0m\u001b[0;34m\u001b[0m\u001b[0m\n\u001b[1;32m    699\u001b[0m             \u001b[0;32mreturn\u001b[0m \u001b[0mstream\u001b[0m\u001b[0;34m.\u001b[0m\u001b[0mgetvalue\u001b[0m\u001b[0;34m(\u001b[0m\u001b[0;34m)\u001b[0m\u001b[0;34m\u001b[0m\u001b[0m\n",
      "\u001b[0;32m/Users/arnaud/anaconda/lib/python2.7/site-packages/IPython/lib/pretty.pyc\u001b[0m in \u001b[0;36mpretty\u001b[0;34m(self, obj)\u001b[0m\n\u001b[1;32m    381\u001b[0m                             \u001b[0;32mif\u001b[0m \u001b[0mcallable\u001b[0m\u001b[0;34m(\u001b[0m\u001b[0mmeth\u001b[0m\u001b[0;34m)\u001b[0m\u001b[0;34m:\u001b[0m\u001b[0;34m\u001b[0m\u001b[0m\n\u001b[1;32m    382\u001b[0m                                 \u001b[0;32mreturn\u001b[0m \u001b[0mmeth\u001b[0m\u001b[0;34m(\u001b[0m\u001b[0mobj\u001b[0m\u001b[0;34m,\u001b[0m \u001b[0mself\u001b[0m\u001b[0;34m,\u001b[0m \u001b[0mcycle\u001b[0m\u001b[0;34m)\u001b[0m\u001b[0;34m\u001b[0m\u001b[0m\n\u001b[0;32m--> 383\u001b[0;31m             \u001b[0;32mreturn\u001b[0m \u001b[0m_default_pprint\u001b[0m\u001b[0;34m(\u001b[0m\u001b[0mobj\u001b[0m\u001b[0;34m,\u001b[0m \u001b[0mself\u001b[0m\u001b[0;34m,\u001b[0m \u001b[0mcycle\u001b[0m\u001b[0;34m)\u001b[0m\u001b[0;34m\u001b[0m\u001b[0m\n\u001b[0m\u001b[1;32m    384\u001b[0m         \u001b[0;32mfinally\u001b[0m\u001b[0;34m:\u001b[0m\u001b[0;34m\u001b[0m\u001b[0m\n\u001b[1;32m    385\u001b[0m             \u001b[0mself\u001b[0m\u001b[0;34m.\u001b[0m\u001b[0mend_group\u001b[0m\u001b[0;34m(\u001b[0m\u001b[0;34m)\u001b[0m\u001b[0;34m\u001b[0m\u001b[0m\n",
      "\u001b[0;32m/Users/arnaud/anaconda/lib/python2.7/site-packages/IPython/lib/pretty.pyc\u001b[0m in \u001b[0;36m_default_pprint\u001b[0;34m(obj, p, cycle)\u001b[0m\n\u001b[1;32m    501\u001b[0m     \u001b[0;32mif\u001b[0m \u001b[0m_safe_getattr\u001b[0m\u001b[0;34m(\u001b[0m\u001b[0mklass\u001b[0m\u001b[0;34m,\u001b[0m \u001b[0;34m'__repr__'\u001b[0m\u001b[0;34m,\u001b[0m \u001b[0mNone\u001b[0m\u001b[0;34m)\u001b[0m \u001b[0;32mnot\u001b[0m \u001b[0;32min\u001b[0m \u001b[0m_baseclass_reprs\u001b[0m\u001b[0;34m:\u001b[0m\u001b[0;34m\u001b[0m\u001b[0m\n\u001b[1;32m    502\u001b[0m         \u001b[0;31m# A user-provided repr. Find newlines and replace them with p.break_()\u001b[0m\u001b[0;34m\u001b[0m\u001b[0;34m\u001b[0m\u001b[0m\n\u001b[0;32m--> 503\u001b[0;31m         \u001b[0m_repr_pprint\u001b[0m\u001b[0;34m(\u001b[0m\u001b[0mobj\u001b[0m\u001b[0;34m,\u001b[0m \u001b[0mp\u001b[0m\u001b[0;34m,\u001b[0m \u001b[0mcycle\u001b[0m\u001b[0;34m)\u001b[0m\u001b[0;34m\u001b[0m\u001b[0m\n\u001b[0m\u001b[1;32m    504\u001b[0m         \u001b[0;32mreturn\u001b[0m\u001b[0;34m\u001b[0m\u001b[0m\n\u001b[1;32m    505\u001b[0m     \u001b[0mp\u001b[0m\u001b[0;34m.\u001b[0m\u001b[0mbegin_group\u001b[0m\u001b[0;34m(\u001b[0m\u001b[0;36m1\u001b[0m\u001b[0;34m,\u001b[0m \u001b[0;34m'<'\u001b[0m\u001b[0;34m)\u001b[0m\u001b[0;34m\u001b[0m\u001b[0m\n",
      "\u001b[0;32m/Users/arnaud/anaconda/lib/python2.7/site-packages/IPython/lib/pretty.pyc\u001b[0m in \u001b[0;36m_repr_pprint\u001b[0;34m(obj, p, cycle)\u001b[0m\n\u001b[1;32m    683\u001b[0m     \u001b[0;34m\"\"\"A pprint that just redirects to the normal repr function.\"\"\"\u001b[0m\u001b[0;34m\u001b[0m\u001b[0m\n\u001b[1;32m    684\u001b[0m     \u001b[0;31m# Find newlines and replace them with p.break_()\u001b[0m\u001b[0;34m\u001b[0m\u001b[0;34m\u001b[0m\u001b[0m\n\u001b[0;32m--> 685\u001b[0;31m     \u001b[0moutput\u001b[0m \u001b[0;34m=\u001b[0m \u001b[0mrepr\u001b[0m\u001b[0;34m(\u001b[0m\u001b[0mobj\u001b[0m\u001b[0;34m)\u001b[0m\u001b[0;34m\u001b[0m\u001b[0m\n\u001b[0m\u001b[1;32m    686\u001b[0m     \u001b[0;32mfor\u001b[0m \u001b[0midx\u001b[0m\u001b[0;34m,\u001b[0m\u001b[0moutput_line\u001b[0m \u001b[0;32min\u001b[0m \u001b[0menumerate\u001b[0m\u001b[0;34m(\u001b[0m\u001b[0moutput\u001b[0m\u001b[0;34m.\u001b[0m\u001b[0msplitlines\u001b[0m\u001b[0;34m(\u001b[0m\u001b[0;34m)\u001b[0m\u001b[0;34m)\u001b[0m\u001b[0;34m:\u001b[0m\u001b[0;34m\u001b[0m\u001b[0m\n\u001b[1;32m    687\u001b[0m         \u001b[0;32mif\u001b[0m \u001b[0midx\u001b[0m\u001b[0;34m:\u001b[0m\u001b[0;34m\u001b[0m\u001b[0m\n",
      "\u001b[0;32m/Users/arnaud/anaconda/lib/python2.7/site-packages/ggplot/ggplot.pyc\u001b[0m in \u001b[0;36m__repr__\u001b[0;34m(self)\u001b[0m\n\u001b[1;32m    109\u001b[0m     \u001b[0;32mdef\u001b[0m \u001b[0m__repr__\u001b[0m\u001b[0;34m(\u001b[0m\u001b[0mself\u001b[0m\u001b[0;34m)\u001b[0m\u001b[0;34m:\u001b[0m\u001b[0;34m\u001b[0m\u001b[0m\n\u001b[1;32m    110\u001b[0m         \u001b[0;34m\"\"\"Print/show the plot\"\"\"\u001b[0m\u001b[0;34m\u001b[0m\u001b[0m\n\u001b[0;32m--> 111\u001b[0;31m         \u001b[0mfigure\u001b[0m \u001b[0;34m=\u001b[0m \u001b[0mself\u001b[0m\u001b[0;34m.\u001b[0m\u001b[0mdraw\u001b[0m\u001b[0;34m(\u001b[0m\u001b[0;34m)\u001b[0m\u001b[0;34m\u001b[0m\u001b[0m\n\u001b[0m\u001b[1;32m    112\u001b[0m         \u001b[0;31m# We're going to default to making the plot appear when __repr__ is\u001b[0m\u001b[0;34m\u001b[0m\u001b[0;34m\u001b[0m\u001b[0m\n\u001b[1;32m    113\u001b[0m         \u001b[0;31m# called.\u001b[0m\u001b[0;34m\u001b[0m\u001b[0;34m\u001b[0m\u001b[0m\n",
      "\u001b[0;32m/Users/arnaud/anaconda/lib/python2.7/site-packages/ggplot/ggplot.pyc\u001b[0m in \u001b[0;36mdraw\u001b[0;34m(self)\u001b[0m\n\u001b[1;32m    245\u001b[0m                                      ),\n\u001b[1;32m    246\u001b[0m                                      \u001b[0mtransform\u001b[0m\u001b[0;34m=\u001b[0m\u001b[0max\u001b[0m\u001b[0;34m.\u001b[0m\u001b[0mtransAxes\u001b[0m\u001b[0;34m,\u001b[0m\u001b[0;34m\u001b[0m\u001b[0m\n\u001b[0;32m--> 247\u001b[0;31m                                      \u001b[0mfontdict\u001b[0m\u001b[0;34m=\u001b[0m\u001b[0mdict\u001b[0m\u001b[0;34m(\u001b[0m\u001b[0mrotation\u001b[0m\u001b[0;34m=\u001b[0m\u001b[0;34m-\u001b[0m\u001b[0;36m90\u001b[0m\u001b[0;34m,\u001b[0m \u001b[0mverticalalignment\u001b[0m\u001b[0;34m=\u001b[0m\u001b[0;34m\"center\"\u001b[0m\u001b[0;34m,\u001b[0m \u001b[0mhorizontalalignment\u001b[0m\u001b[0;34m=\u001b[0m\u001b[0;34m'left'\u001b[0m\u001b[0;34m)\u001b[0m\u001b[0;34m\u001b[0m\u001b[0m\n\u001b[0m\u001b[1;32m    248\u001b[0m                             )\n\u001b[1;32m    249\u001b[0m \u001b[0;34m\u001b[0m\u001b[0m\n",
      "\u001b[0;32m/Users/arnaud/anaconda/lib/python2.7/site-packages/matplotlib/axes/_axes.pyc\u001b[0m in \u001b[0;36mtext\u001b[0;34m(self, x, y, s, fontdict, withdash, **kwargs)\u001b[0m\n\u001b[1;32m    614\u001b[0m         \u001b[0;32mif\u001b[0m \u001b[0mfontdict\u001b[0m \u001b[0;32mis\u001b[0m \u001b[0;32mnot\u001b[0m \u001b[0mNone\u001b[0m\u001b[0;34m:\u001b[0m\u001b[0;34m\u001b[0m\u001b[0m\n\u001b[1;32m    615\u001b[0m             \u001b[0mt\u001b[0m\u001b[0;34m.\u001b[0m\u001b[0mupdate\u001b[0m\u001b[0;34m(\u001b[0m\u001b[0mfontdict\u001b[0m\u001b[0;34m)\u001b[0m\u001b[0;34m\u001b[0m\u001b[0m\n\u001b[0;32m--> 616\u001b[0;31m         \u001b[0mt\u001b[0m\u001b[0;34m.\u001b[0m\u001b[0mupdate\u001b[0m\u001b[0;34m(\u001b[0m\u001b[0mkwargs\u001b[0m\u001b[0;34m)\u001b[0m\u001b[0;34m\u001b[0m\u001b[0m\n\u001b[0m\u001b[1;32m    617\u001b[0m \u001b[0;34m\u001b[0m\u001b[0m\n\u001b[1;32m    618\u001b[0m         \u001b[0mt\u001b[0m\u001b[0;34m.\u001b[0m\u001b[0mset_clip_path\u001b[0m\u001b[0;34m(\u001b[0m\u001b[0mself\u001b[0m\u001b[0;34m.\u001b[0m\u001b[0mpatch\u001b[0m\u001b[0;34m)\u001b[0m\u001b[0;34m\u001b[0m\u001b[0m\n",
      "\u001b[0;32m/Users/arnaud/anaconda/lib/python2.7/site-packages/matplotlib/text.pyc\u001b[0m in \u001b[0;36mupdate\u001b[0;34m(self, kwargs)\u001b[0m\n\u001b[1;32m    242\u001b[0m         \u001b[0msuper\u001b[0m\u001b[0;34m(\u001b[0m\u001b[0mText\u001b[0m\u001b[0;34m,\u001b[0m \u001b[0mself\u001b[0m\u001b[0;34m)\u001b[0m\u001b[0;34m.\u001b[0m\u001b[0mupdate\u001b[0m\u001b[0;34m(\u001b[0m\u001b[0mkwargs\u001b[0m\u001b[0;34m)\u001b[0m\u001b[0;34m\u001b[0m\u001b[0m\n\u001b[1;32m    243\u001b[0m         \u001b[0;32mif\u001b[0m \u001b[0mbbox\u001b[0m\u001b[0;34m:\u001b[0m\u001b[0;34m\u001b[0m\u001b[0m\n\u001b[0;32m--> 244\u001b[0;31m             \u001b[0mself\u001b[0m\u001b[0;34m.\u001b[0m\u001b[0mset_bbox\u001b[0m\u001b[0;34m(\u001b[0m\u001b[0mbbox\u001b[0m\u001b[0;34m)\u001b[0m  \u001b[0;31m# depends on font properties\u001b[0m\u001b[0;34m\u001b[0m\u001b[0m\n\u001b[0m\u001b[1;32m    245\u001b[0m \u001b[0;34m\u001b[0m\u001b[0m\n\u001b[1;32m    246\u001b[0m     \u001b[0;32mdef\u001b[0m \u001b[0m__getstate__\u001b[0m\u001b[0;34m(\u001b[0m\u001b[0mself\u001b[0m\u001b[0;34m)\u001b[0m\u001b[0;34m:\u001b[0m\u001b[0;34m\u001b[0m\u001b[0m\n",
      "\u001b[0;32m/Users/arnaud/anaconda/lib/python2.7/site-packages/matplotlib/text.pyc\u001b[0m in \u001b[0;36mset_bbox\u001b[0;34m(self, rectprops)\u001b[0m\n\u001b[1;32m    514\u001b[0m                                     \u001b[0mbbox_transmuter\u001b[0m\u001b[0;34m=\u001b[0m\u001b[0mbbox_transmuter\u001b[0m\u001b[0;34m,\u001b[0m\u001b[0;34m\u001b[0m\u001b[0m\n\u001b[1;32m    515\u001b[0m                                     \u001b[0mtransform\u001b[0m\u001b[0;34m=\u001b[0m\u001b[0mmtransforms\u001b[0m\u001b[0;34m.\u001b[0m\u001b[0mIdentityTransform\u001b[0m\u001b[0;34m(\u001b[0m\u001b[0;34m)\u001b[0m\u001b[0;34m,\u001b[0m\u001b[0;34m\u001b[0m\u001b[0m\n\u001b[0;32m--> 516\u001b[0;31m                                     **props)\n\u001b[0m\u001b[1;32m    517\u001b[0m         \u001b[0;32melse\u001b[0m\u001b[0;34m:\u001b[0m\u001b[0;34m\u001b[0m\u001b[0m\n\u001b[1;32m    518\u001b[0m             \u001b[0mself\u001b[0m\u001b[0;34m.\u001b[0m\u001b[0m_bbox_patch\u001b[0m \u001b[0;34m=\u001b[0m \u001b[0mNone\u001b[0m\u001b[0;34m\u001b[0m\u001b[0m\n",
      "\u001b[0;31mTypeError\u001b[0m: __init__() got multiple values for keyword argument 'width'"
     ]
    }
   ],
   "source": [
    "ggplot(entries_unit_week_day, aes('hour_bucket', 'avg(entriesn_bucket)')) + \\\n",
    "    geom_point(color='red') + geom_line(color='red') + \\\n",
    "    facet_grid('unit', 'week_day') + \\\n",
    "    xlab('Hour (bucketed)') + ylab('Number of riderships') + \\\n",
    "    ggtitle(\"Riderships by hour and week of day for the top 5 crowdiest stations\")"
   ]
  },
  {
   "cell_type": "markdown",
   "metadata": {
    "collapsed": true
   },
   "source": [
    "We can see two different patterns. The main one is a low number of riderships around 6 AM, and a high number of riderships in the evening, for the business days. The pattern is similar during the weekend, but with less riderships. This is the pattern for the units ``R022``, ``R033``, ``R084`` and ``R170``. The unit ``R046`` is an exception. There is a peak of riderships between 12 PM and 6 PM. That would be interesting to know which station is behind which unit."
   ]
  }
 ],
 "metadata": {
  "kernelspec": {
   "display_name": "Python 2",
   "language": "python",
   "name": "python2"
  },
  "language_info": {
   "codemirror_mode": {
    "name": "ipython",
    "version": 2
   },
   "file_extension": ".py",
   "mimetype": "text/x-python",
   "name": "python",
   "nbconvert_exporter": "python",
   "pygments_lexer": "ipython2",
   "version": "2.7.11"
  }
 },
 "nbformat": 4,
 "nbformat_minor": 0
}
