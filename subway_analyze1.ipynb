{
 "cells": [
  {
   "cell_type": "markdown",
   "metadata": {},
   "source": [
    "This notebook is my own correction of the [exercise 8, lesson 3](https://www.udacity.com/course/viewer#!/c-ud359/l-732399471/e-747978770/m-747978771), from the Udacity Introduction to Data Science course. The purpose of this exercise is to improve the linear regression computed from the gradient descent."
   ]
  },
  {
   "cell_type": "markdown",
   "metadata": {},
   "source": [
    "This command is required to display the plots inline:"
   ]
  },
  {
   "cell_type": "code",
   "execution_count": 1,
   "metadata": {
    "collapsed": true
   },
   "outputs": [],
   "source": [
    "%matplotlib inline"
   ]
  },
  {
   "cell_type": "markdown",
   "metadata": {
    "collapsed": true
   },
   "source": [
    "Import the tools for the exercise:"
   ]
  },
  {
   "cell_type": "code",
   "execution_count": 2,
   "metadata": {
    "collapsed": false
   },
   "outputs": [],
   "source": [
    "import numpy as np\n",
    "import statsmodels.api as sm\n",
    "from pandas import *\n",
    "from ggplot import *"
   ]
  },
  {
   "cell_type": "markdown",
   "metadata": {
    "collapsed": true
   },
   "source": [
    "And now import the dataset as a ``pandas`` dataframe:"
   ]
  },
  {
   "cell_type": "code",
   "execution_count": 3,
   "metadata": {
    "collapsed": false
   },
   "outputs": [
    {
     "name": "stdout",
     "output_type": "stream",
     "text": [
      "Index([u'Unnamed: 0', u'UNIT', u'DATEn', u'TIMEn', u'Hour', u'DESCn',\n",
      "       u'ENTRIESn_hourly', u'EXITSn_hourly', u'maxpressurei', u'maxdewpti',\n",
      "       u'mindewpti', u'minpressurei', u'meandewpti', u'meanpressurei', u'fog',\n",
      "       u'rain', u'meanwindspdi', u'mintempi', u'meantempi', u'maxtempi',\n",
      "       u'precipi', u'thunder'],\n",
      "      dtype='object')\n"
     ]
    }
   ],
   "source": [
    "turnstile_weather = pandas.read_csv('data/turnstile_data_master_with_weather.csv')\n",
    "print turnstile_weather.columns"
   ]
  },
  {
   "cell_type": "markdown",
   "metadata": {},
   "source": [
    "To compare the results, we will use the $R^2$ function from the course:"
   ]
  },
  {
   "cell_type": "code",
   "execution_count": 4,
   "metadata": {
    "collapsed": true
   },
   "outputs": [],
   "source": [
    "def compute_r_squared(data, predictions):\n",
    "    '''\n",
    "    Given a list of original data points, and also a list of predicted data points,\n",
    "    calculate the coefficient of determination (R^2) for this data.\n",
    "    '''\n",
    "    r_squared = 1 - np.square(data - predictions).sum() / np.square(data - data.mean()).sum()\n",
    "    return r_squared"
   ]
  },
  {
   "cell_type": "markdown",
   "metadata": {},
   "source": [
    "We can now select the features (independent variable) and the values (dependent variable)."
   ]
  },
  {
   "cell_type": "code",
   "execution_count": 5,
   "metadata": {
    "collapsed": false
   },
   "outputs": [],
   "source": [
    "features = turnstile_weather[['rain', 'precipi', 'Hour', 'mintempi', 'fog']]\n",
    "values = turnstile_weather['ENTRIESn_hourly']"
   ]
  },
  {
   "cell_type": "markdown",
   "metadata": {},
   "source": [
    "Before moving forward, let's have a look at the data and display the most import ones. It is always a good idea to plot quickly the data points to have a better feeling of the situation."
   ]
  },
  {
   "cell_type": "code",
   "execution_count": 6,
   "metadata": {
    "collapsed": false
   },
   "outputs": [
    {
     "name": "stdout",
     "output_type": "stream",
     "text": [
      "        UNIT       DATEn     TIMEn  precipi  ENTRIESn_hourly\n",
      "0       R001  2011-05-01  01:00:00     0.00                0\n",
      "1       R001  2011-05-01  05:00:00     0.00              217\n",
      "2       R001  2011-05-01  09:00:00     0.00              890\n",
      "3       R001  2011-05-01  13:00:00     0.00             2451\n",
      "4       R001  2011-05-01  17:00:00     0.00             4400\n",
      "5       R001  2011-05-01  21:00:00     0.00             3372\n",
      "6       R002  2011-05-01  01:00:00     0.00                0\n",
      "7       R002  2011-05-01  05:00:00     0.00               42\n",
      "8       R002  2011-05-01  09:00:00     0.00               50\n",
      "9       R002  2011-05-01  13:00:00     0.00              316\n",
      "10      R002  2011-05-01  17:00:00     0.00              633\n",
      "11      R002  2011-05-01  21:00:00     0.00              639\n",
      "12      R003  2011-05-01  00:00:00     0.00                0\n",
      "13      R003  2011-05-01  04:00:00     0.00                0\n",
      "14      R003  2011-05-01  12:00:00     0.00                0\n",
      "15      R003  2011-05-01  16:00:00     0.00                0\n",
      "16      R003  2011-05-01  20:00:00     0.00                0\n",
      "17      R004  2011-05-01  00:00:00     0.00                0\n",
      "18      R004  2011-05-01  04:00:00     0.00                0\n",
      "19      R004  2011-05-01  08:00:00     0.00                0\n",
      "20      R004  2011-05-01  12:00:00     0.00                0\n",
      "21      R004  2011-05-01  16:00:00     0.00                0\n",
      "22      R004  2011-05-01  20:00:00     0.00                0\n",
      "23      R005  2011-05-01  00:00:00     0.00                0\n",
      "24      R005  2011-05-01  04:00:00     0.00                0\n",
      "25      R005  2011-05-01  12:00:00     0.00                0\n",
      "26      R005  2011-05-01  16:00:00     0.00                1\n",
      "27      R005  2011-05-01  20:00:00     0.00                0\n",
      "28      R006  2011-05-01  00:00:00     0.00                0\n",
      "29      R006  2011-05-01  04:00:00     0.00                0\n",
      "...      ...         ...       ...      ...              ...\n",
      "131921  R552  2011-05-30  17:55:25     0.29                6\n",
      "131922  R552  2011-05-30  18:09:09     0.29              192\n",
      "131923  R552  2011-05-30  18:15:11     0.29              350\n",
      "131924  R552  2011-05-30  18:27:32     0.29               25\n",
      "131925  R552  2011-05-30  18:46:54     0.29                0\n",
      "131926  R552  2011-05-30  19:09:29     0.29               30\n",
      "131927  R552  2011-05-30  19:11:30     0.29              208\n",
      "131928  R552  2011-05-30  19:16:44     0.29              107\n",
      "131929  R552  2011-05-30  19:23:45     0.29              139\n",
      "131930  R552  2011-05-30  19:36:27     0.29              331\n",
      "131931  R552  2011-05-30  19:38:47     0.29              275\n",
      "131932  R552  2011-05-30  19:52:07     0.29              133\n",
      "131933  R552  2011-05-30  20:10:01     0.29                7\n",
      "131934  R552  2011-05-30  20:17:36     0.29              128\n",
      "131935  R552  2011-05-30  20:23:06     0.29              142\n",
      "131936  R552  2011-05-30  20:51:44     0.29                0\n",
      "131937  R552  2011-05-30  20:58:04     0.29              248\n",
      "131938  R552  2011-05-30  20:58:21     0.29               62\n",
      "131939  R552  2011-05-30  21:14:49     0.29              116\n",
      "131940  R552  2011-05-30  21:21:28     0.29               68\n",
      "131941  R552  2011-05-30  22:07:25     0.29                7\n",
      "131942  R552  2011-05-30  22:21:09     0.29               80\n",
      "131943  R552  2011-05-30  22:27:11     0.29              195\n",
      "131944  R552  2011-05-30  22:39:32     0.29               18\n",
      "131945  R552  2011-05-30  22:58:54     0.29                0\n",
      "131946  R552  2011-05-30  23:21:29     0.29               19\n",
      "131947  R552  2011-05-30  23:23:30     0.29              158\n",
      "131948  R552  2011-05-30  23:28:44     0.29               54\n",
      "131949  R552  2011-05-30  23:35:45     0.29               59\n",
      "131950  R552  2011-05-30  23:50:47     0.29              123\n",
      "\n",
      "[131951 rows x 5 columns]\n"
     ]
    }
   ],
   "source": [
    "print turnstile_weather[['UNIT', 'DATEn', 'TIMEn', 'precipi', 'ENTRIESn_hourly']]"
   ]
  },
  {
   "cell_type": "code",
   "execution_count": 7,
   "metadata": {
    "collapsed": false
   },
   "outputs": [
    {
     "name": "stdout",
     "output_type": "stream",
     "text": [
      "0.29\n"
     ]
    }
   ],
   "source": [
    "print np.mean(turnstile_weather[turnstile_weather['DATEn'] == '2011-05-30']['precipi'])"
   ]
  },
  {
   "cell_type": "markdown",
   "metadata": {},
   "source": [
    "To be noticed, the precipitation value is the same for all stations for a given day. The plot of the precipitation by number of entries gives a cloud of points, that does not make think about a potential regression."
   ]
  },
  {
   "cell_type": "code",
   "execution_count": 8,
   "metadata": {
    "collapsed": false
   },
   "outputs": [
    {
     "name": "stderr",
     "output_type": "stream",
     "text": [
      "/Users/arnaud/anaconda/lib/python2.7/site-packages/matplotlib/__init__.py:872: UserWarning: axes.color_cycle is deprecated and replaced with axes.prop_cycle; please use the latter.\n",
      "  warnings.warn(self.msg_depr % (key, alt_key))\n"
     ]
    },
    {
     "data": {
      "image/png": "[encoded data removed]",
      "text/plain": [
       "<matplotlib.figure.Figure at 0x10b5c2110>"
      ]
     },
     "metadata": {},
     "output_type": "display_data"
    },
    {
     "name": "stdout",
     "output_type": "stream",
     "text": [
      "<ggplot: (274887497)>\n"
     ]
    }
   ],
   "source": [
    "plot = ggplot(aes('precipi', 'ENTRIESn_hourly'), turnstile_weather) + geom_point()\n",
    "print plot"
   ]
  },
  {
   "cell_type": "markdown",
   "metadata": {},
   "source": [
    "This is definitively not a good data points cloud for a linear regression. I did not notice it at first, but there is a subtle transformation in the stub of the exercise."
   ]
  },
  {
   "cell_type": "code",
   "execution_count": 9,
   "metadata": {
    "collapsed": false
   },
   "outputs": [],
   "source": [
    "dummy_units = pandas.get_dummies(turnstile_weather['UNIT'], prefix='unit')\n",
    "features = features.join(dummy_units)"
   ]
  },
  {
   "cell_type": "markdown",
   "metadata": {},
   "source": [
    "This ``get_dummies`` function will convert the ``UNIT`` (stations) into indicator variables. So the linear regression will consider each station as a variable by itself, and no longer as a category of a single variable. The values are also normalized."
   ]
  },
  {
   "cell_type": "code",
   "execution_count": 10,
   "metadata": {
    "collapsed": false
   },
   "outputs": [],
   "source": [
    "def normalize_features(df):\n",
    "    mu = df.mean()\n",
    "    sigma = df.std()    \n",
    "    if (sigma == 0).any():\n",
    "        raise Exception(\"One or more features had the same value for all samples, and thus could \" + \\\n",
    "                         \"not be normalized. Please do not include features with only a single value \" + \\\n",
    "                         \"in your model.\")\n",
    "    df_normalized = (df - df.mean()) / df.std()\n",
    "    return df_normalized, mu, sigma\n",
    "features, mu, sigma = normalize_features(features)"
   ]
  },
  {
   "cell_type": "markdown",
   "metadata": {},
   "source": [
    "In the final step, the intercep is appended to the data, and converted into numpy array."
   ]
  },
  {
   "cell_type": "code",
   "execution_count": 11,
   "metadata": {
    "collapsed": true
   },
   "outputs": [],
   "source": [
    "m = len(values)\n",
    "features['ones'] = np.ones(m)\n",
    "features_array = np.array(features)\n",
    "values_array = np.array(values)"
   ]
  },
  {
   "cell_type": "markdown",
   "metadata": {},
   "source": [
    "After this preparation work, we can determine the regression parameters. Let's start with the gradient descent."
   ]
  },
  {
   "cell_type": "code",
   "execution_count": 12,
   "metadata": {
    "collapsed": true
   },
   "outputs": [],
   "source": [
    "def gradient_descent(features, values, theta, alpha, num_iterations):\n",
    "    m = len(values)\n",
    "    for i in range(num_iterations):\n",
    "        predicted_values = np.dot(features, theta)\n",
    "        theta = theta - alpha / m * np.dot((predicted_values - values), features)     \n",
    "    return theta"
   ]
  },
  {
   "cell_type": "code",
   "execution_count": 13,
   "metadata": {
    "collapsed": true
   },
   "outputs": [],
   "source": [
    "alpha = 0.1\n",
    "num_iterations = 75\n",
    "theta_gradient_descent = np.zeros(len(features.columns))\n",
    "theta_gradient_descent = gradient_descent(features_array,\n",
    "                                          values_array,\n",
    "                                          theta_gradient_descent,\n",
    "                                          alpha,\n",
    "                                          num_iterations)\n",
    "prediction = np.dot(features_array, theta_gradient_descent)"
   ]
  },
  {
   "cell_type": "code",
   "execution_count": 14,
   "metadata": {
    "collapsed": false
   },
   "outputs": [
    {
     "name": "stdout",
     "output_type": "stream",
     "text": [
      "0.458583922399\n"
     ]
    }
   ],
   "source": [
    "print compute_r_squared(values_array, prediction)"
   ]
  },
  {
   "cell_type": "markdown",
   "metadata": {},
   "source": [
    "Let's try to determine the parameters with the `statsmodels` implementation."
   ]
  },
  {
   "cell_type": "code",
   "execution_count": 15,
   "metadata": {
    "collapsed": false
   },
   "outputs": [],
   "source": [
    "model = sm.OLS(values_array, features_array)\n",
    "theta_statsmodels = model.fit().params\n",
    "prediction = np.dot(features_array, theta_statsmodels)    "
   ]
  },
  {
   "cell_type": "code",
   "execution_count": 16,
   "metadata": {
    "collapsed": false
   },
   "outputs": [
    {
     "name": "stdout",
     "output_type": "stream",
     "text": [
      "0.458474190681\n"
     ]
    }
   ],
   "source": [
    "print compute_r_squared(values_array, prediction)"
   ]
  },
  {
   "cell_type": "markdown",
   "metadata": {},
   "source": [
    "The result is about the same, which is expected and prove that the `statsmodels` implementation has been used properly. This implementation is convenient, since the parameters are provided by a single function call. This solution is accepted by the grader, even if the $R^2$ is not better than the gradient descent."
   ]
  }
 ],
 "metadata": {
  "kernelspec": {
   "display_name": "Python 2",
   "language": "python",
   "name": "python2"
  },
  "language_info": {
   "codemirror_mode": {
    "name": "ipython",
    "version": 2
   },
   "file_extension": ".py",
   "mimetype": "text/x-python",
   "name": "python",
   "nbconvert_exporter": "python",
   "pygments_lexer": "ipython2",
   "version": "2.7.11"
  }
 },
 "nbformat": 4,
 "nbformat_minor": 0
}
