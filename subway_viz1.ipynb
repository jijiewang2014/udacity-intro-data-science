{
 "cells": [
  {
   "cell_type": "markdown",
   "metadata": {},
   "source": [
    "This notebook is my own correction of the [exercise 1, lesson 4](https://www.udacity.com/course/viewer#!/c-ud359/l-729939275/e-712470088/m-712470089), from the Udacity Introduction to Data Science course. The purpose is to play around with ``ggplot`` and the subway dataset. The dataset is rich enough to expose real problems with data plotting (compared to the quizzes from the lessons). I will plot the averge riderships by day. Note that the number of riderships is not a good proxy, since the number of week days is not the same (you can have more Mondays than Sundays for a give month)."
   ]
  },
  {
   "cell_type": "markdown",
   "metadata": {},
   "source": [
    "First of all, let's import the usual tools:"
   ]
  },
  {
   "cell_type": "code",
   "execution_count": 1,
   "metadata": {
    "collapsed": true
   },
   "outputs": [],
   "source": [
    "import pandas as pd\n",
    "from ggplot import *\n",
    "from datetime import *"
   ]
  },
  {
   "cell_type": "markdown",
   "metadata": {},
   "source": [
    "This command is required to display the plots inline:"
   ]
  },
  {
   "cell_type": "code",
   "execution_count": 2,
   "metadata": {
    "collapsed": true
   },
   "outputs": [],
   "source": [
    "%matplotlib inline"
   ]
  },
  {
   "cell_type": "code",
   "execution_count": 3,
   "metadata": {
    "collapsed": false
   },
   "outputs": [],
   "source": [
    "turnstile_weather = pd.read_csv('data/turnstile_data_master_with_weather.csv')\n",
    "turnstile_weather.is_copy = False"
   ]
  },
  {
   "cell_type": "markdown",
   "metadata": {},
   "source": [
    "Before plotting, data should usually be manipulated. ``ggplot`` can do it in simple cases, typically counting occurences with ``geom_histogram``. Summing and averaging should be done before plotting in the data set itself or in another data set. This kind of operation can be done in ``pandas`` directly. Since the course is based on ``pandasql``, I will use it here either. I guess that more advance plotting tools could prevent that manipulate data directly."
   ]
  },
  {
   "cell_type": "code",
   "execution_count": 4,
   "metadata": {
    "collapsed": true
   },
   "outputs": [],
   "source": [
    "import pandasql"
   ]
  },
  {
   "cell_type": "markdown",
   "metadata": {},
   "source": [
    "When using ``pandasql``, you have to be careful about the columns name. They should follow the [SQLite column naming conventions](http://www.sqlite.org/lang_keywords.html), otherwise an exeception error message will be thrown away. That's why the columns should be renamed, as described [here](http://bryansmithphd.com/) (this blog has only one post, but it happened to be very useful to me). The columns are also renamed in the code snippets from the quizzes, but I didn't notice it at that time."
   ]
  },
  {
   "cell_type": "code",
   "execution_count": 5,
   "metadata": {
    "collapsed": true
   },
   "outputs": [],
   "source": [
    "turnstile_weather.rename(columns = lambda x: x.replace(' ', '_').lower(), inplace=True) "
   ]
  },
  {
   "cell_type": "markdown",
   "metadata": {},
   "source": [
    "Check the result by displaying the columns name:"
   ]
  },
  {
   "cell_type": "code",
   "execution_count": 6,
   "metadata": {
    "collapsed": false
   },
   "outputs": [
    {
     "name": "stdout",
     "output_type": "stream",
     "text": [
      "Index([u'unnamed:_0', u'unit', u'daten', u'timen', u'hour', u'descn',\n",
      "       u'entriesn_hourly', u'exitsn_hourly', u'maxpressurei', u'maxdewpti',\n",
      "       u'mindewpti', u'minpressurei', u'meandewpti', u'meanpressurei', u'fog',\n",
      "       u'rain', u'meanwindspdi', u'mintempi', u'meantempi', u'maxtempi',\n",
      "       u'precipi', u'thunder'],\n",
      "      dtype='object')\n"
     ]
    }
   ],
   "source": [
    "print turnstile_weather.columns"
   ]
  },
  {
   "cell_type": "code",
   "execution_count": 7,
   "metadata": {
    "collapsed": false
   },
   "outputs": [],
   "source": [
    "turnstile_weather['week_day'] = turnstile_weather['daten'].map(\n",
    "            lambda x: datetime.strptime(x, '%Y-%m-%d').weekday())"
   ]
  },
  {
   "cell_type": "markdown",
   "metadata": {},
   "source": [
    "The ``weekday`` function maps a date with a week day (as an integer from 0 to 6). We can now cumulate by day the number of entries."
   ]
  },
  {
   "cell_type": "code",
   "execution_count": 8,
   "metadata": {
    "collapsed": false
   },
   "outputs": [],
   "source": [
    "q = \"\"\"\n",
    "select daten, week_day, sum(entriesn_hourly)\n",
    "from turnstile_weather\n",
    "group by daten\n",
    "\"\"\"\n",
    "entries_day = pandasql.sqldf(q.lower(), locals())"
   ]
  },
  {
   "cell_type": "markdown",
   "metadata": {},
   "source": [
    "For concenience, the summed column will be renamed."
   ]
  },
  {
   "cell_type": "code",
   "execution_count": 9,
   "metadata": {
    "collapsed": false
   },
   "outputs": [],
   "source": [
    "entries_day.rename(columns={'sum(entriesn_hourly)': 'entriesn_daily'}, inplace=True)"
   ]
  },
  {
   "cell_type": "code",
   "execution_count": 10,
   "metadata": {
    "collapsed": false
   },
   "outputs": [
    {
     "name": "stdout",
     "output_type": "stream",
     "text": [
      "         daten  week_day  entriesn_daily\n",
      "0   2011-05-01         6         2370432\n",
      "1   2011-05-02         0         5317143\n",
      "2   2011-05-03         1         5840327\n",
      "3   2011-05-04         2         5836427\n",
      "4   2011-05-05         3         5900352\n",
      "5   2011-05-06         4         5862195\n",
      "6   2011-05-07         5         3530107\n",
      "7   2011-05-08         6         2683954\n",
      "8   2011-05-09         0         5346657\n",
      "9   2011-05-10         1         5767646\n",
      "10  2011-05-11         2         5894916\n",
      "11  2011-05-12         3         5907349\n",
      "12  2011-05-13         4         5863115\n",
      "13  2011-05-14         5         3537323\n",
      "14  2011-05-15         6         2685406\n",
      "15  2011-05-16         0         5428740\n",
      "16  2011-05-17         1         5669840\n",
      "17  2011-05-18         2         5866031\n",
      "18  2011-05-19         3         5811475\n",
      "19  2011-05-20         4         5792009\n",
      "20  2011-05-21         5         3627123\n",
      "21  2011-05-22         6         2717714\n",
      "22  2011-05-23         0         5376031\n",
      "23  2011-05-24         1         5720141\n",
      "24  2011-05-25         2         5965262\n",
      "25  2011-05-26         3         5867473\n",
      "26  2011-05-27         4         5613454\n",
      "27  2011-05-28         5         3349552\n",
      "28  2011-05-29         6         2722608\n",
      "29  2011-05-30         0         2661525\n"
     ]
    }
   ],
   "source": [
    "print entries_day"
   ]
  },
  {
   "cell_type": "markdown",
   "metadata": {},
   "source": [
    "The data set is now clean. The average will also be calculated using ``pandasql``."
   ]
  },
  {
   "cell_type": "code",
   "execution_count": 11,
   "metadata": {
    "collapsed": false
   },
   "outputs": [],
   "source": [
    "q = \"\"\"\n",
    "select week_day, avg(entriesn_daily)\n",
    "from entries_day\n",
    "group by week_day\n",
    "\"\"\"\n",
    "entries_week_day = pandasql.sqldf(q.lower(), locals())"
   ]
  },
  {
   "cell_type": "code",
   "execution_count": 12,
   "metadata": {
    "collapsed": false
   },
   "outputs": [
    {
     "name": "stdout",
     "output_type": "stream",
     "text": [
      "   week_day  avg(entriesn_daily)\n",
      "0         0           4826019.20\n",
      "1         1           5749488.50\n",
      "2         2           5890659.00\n",
      "3         3           5871662.25\n",
      "4         4           5782693.25\n",
      "5         5           3511026.25\n",
      "6         6           2636022.80\n"
     ]
    }
   ],
   "source": [
    "print entries_week_day"
   ]
  },
  {
   "cell_type": "markdown",
   "metadata": {},
   "source": [
    "Everything looks really god, we can now plot the result."
   ]
  },
  {
   "cell_type": "code",
   "execution_count": 13,
   "metadata": {
    "collapsed": false
   },
   "outputs": [
    {
     "data": {
      "image/png": "[encoded data removed]",
      "text/plain": [
       "<matplotlib.figure.Figure at 0x10d128a50>"
      ]
     },
     "metadata": {},
     "output_type": "display_data"
    },
    {
     "data": {
      "text/plain": [
       "<ggplot: (282329637)>"
      ]
     },
     "execution_count": 13,
     "metadata": {},
     "output_type": "execute_result"
    }
   ],
   "source": [
    "ggplot(entries_week_day, aes('week_day', 'avg(entriesn_daily)')) + geom_bar(stat=\"bar\") + \\\n",
    "    scale_x_continuous(breaks=[0,1,2,3,4,5,6], labels=[\"Mo.\", \"Tu.\", \"We.\", \"Th.\", \"Fr.\", \"Sa.\", \"Su.\"]) + \\\n",
    "    scale_y_continuous(labels='thousands') + \\\n",
    "    xlab('Week day') + ylab('Number of riderships') + \\\n",
    "    ggtitle('Number of riderships by day of the week')"
   ]
  },
  {
   "cell_type": "markdown",
   "metadata": {},
   "source": [
    "Not really a suprise, there are far more riderships during the business days than during the weekend. The busiest day is Wednesday, but it is very close to Tuesday, Thursday and Friday."
   ]
  }
 ],
 "metadata": {
  "kernelspec": {
   "display_name": "Python 2",
   "language": "python",
   "name": "python2"
  },
  "language_info": {
   "codemirror_mode": {
    "name": "ipython",
    "version": 2
   },
   "file_extension": ".py",
   "mimetype": "text/x-python",
   "name": "python",
   "nbconvert_exporter": "python",
   "pygments_lexer": "ipython2",
   "version": "2.7.10"
  }
 },
 "nbformat": 4,
 "nbformat_minor": 0
}
